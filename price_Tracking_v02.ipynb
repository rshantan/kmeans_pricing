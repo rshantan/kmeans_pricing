{
 "cells": [
  {
   "cell_type": "markdown",
   "metadata": {},
   "source": [
    "# Script for inspecting SKU predictions"
   ]
  },
  {
   "cell_type": "markdown",
   "metadata": {},
   "source": [
    "Author: Conor Duke [conor@fabrikatyr.com](\"mailto:conor@fabrikatyr.com\")  \n",
    "Date: Feb 2016\n",
    "#Contents\n",
    "\n"
   ]
  },
  {
   "cell_type": "markdown",
   "metadata": {},
   "source": [
    "# Setup"
   ]
  },
  {
   "cell_type": "markdown",
   "metadata": {},
   "source": [
    "##  Local Functions"
   ]
  },
  {
   "cell_type": "code",
   "execution_count": 2,
   "metadata": {
    "collapsed": false
   },
   "outputs": [],
   "source": [
    "%matplotlib inline\n",
    "## Libraries useful for this script\n",
    "import csv\n",
    "import os\n",
    "import datetime\n",
    "import ast\n",
    "import pandas as pd\n",
    "import numpy as np\n",
    "import pandas.tools.rplot as rplot\n",
    "from pandas import pivot_table, DataFrame, crosstab\n",
    "import dateutil.parser as dparser\n",
    "import pickle\n",
    "\n",
    "import matplotlib.pyplot as plt\n",
    "import matplotlib.cm as cm\n",
    "from mpl_toolkits.mplot3d import Axes3D\n",
    "from pandas.tools.plotting import scatter_matrix\n",
    "import pandas.tools.rplot as rplot\n",
    "\n",
    "# pandas formatting\n",
    "pd.set_option('display.max_columns', 200)\n",
    "pd.set_option('display.max_rows', 200)\n",
    "pd.set_option('display.width', 1000)\n",
    "pd.set_option('display.mpl_style', 'default')\n",
    "pd.set_option('display.notebook_repr_html', True)\n",
    "pd.set_option('display.expand_frame_repr', True)\n",
    "pd.set_option('display.precision', 5)\n",
    "pd.set_option('display.max_colwidth', 50)\n",
    "\n",
    "\n",
    "from itertools import chain\n",
    "\n",
    "from gensim import matutils\n",
    "import scipy.stats as stats\n",
    "from __future__ import division\n",
    "import seaborn as sns\n",
    "from numpy.random import randn\n",
    "\n",
    "import sklearn as sk\n",
    "import sklearn.datasets as skd\n",
    "import sklearn.ensemble as ske\n",
    "import pylab as pl\n",
    "import statsmodels as sm\n",
    "from sklearn.tree import DecisionTreeClassifier, export_graphviz\n",
    "from sklearn.ensemble import RandomForestClassifier, ExtraTreesClassifier\n",
    "from sklearn.linear_model import LogisticRegression, LinearRegression\n",
    "from sklearn.cross_validation import train_test_split\n",
    "from sklearn import metrics\n",
    "from sklearn.cross_validation import cross_val_score\n",
    "from sklearn.neighbors import KNeighborsClassifier"
   ]
  },
  {
   "cell_type": "markdown",
   "metadata": {},
   "source": [
    "## Import Data"
   ]
  },
  {
   "cell_type": "code",
   "execution_count": 6,
   "metadata": {
    "collapsed": false
   },
   "outputs": [
    {
     "name": "stdout",
     "output_type": "stream",
     "text": [
      "(103, 53)\n"
     ]
    }
   ],
   "source": [
    "fname = '160209_boohoo_pricing.csv'\n",
    "pname = '160209_boohoo_pricing.csv'\n",
    "Idirname = '/Users/Owner/Dropbox/truedash'\n",
    "Odirname = '/Users/Owner/Dropbox/truedash'\n",
    "textfieldname = 'text'\n",
    "\n",
    "projname = \"truedash_v01\"\n",
    "\n",
    "\n",
    "def removeNonAscii(s): return \"\".join(filter(lambda x: ord(x)<128, s))\n",
    "\n",
    "def getcsv(fname,Idirname,textfieldname):\n",
    "    os.chdir(Idirname)\n",
    "    os.listdir(os.getcwd())\n",
    "    data = pd.read_csv(fname,sep =\",\",encoding='utf-8', na_values=['NA'])\n",
    "    data.rename(columns=lambda x: '_'.join(x.lower().split()), inplace=True)\n",
    "    dfX= data.dropna(subset=['text'])\n",
    "    print(data.shape)   \n",
    "    return(dfX)\n",
    "   \n",
    "\n",
    "raw = getcsv(fname,Idirname,textfieldname)\n",
    "\n",
    "#print(raw[1:2])\n",
    "#keep raw for safe keeping\n",
    "df = raw.copy()\n",
    "#df = raw[['age','gender','previousloans','productcount','average_amount_of_ca_transaction','txn_freq','loan_flag']]\n",
    "\n",
    "\n",
    "#data = np.array(df)\n",
    "#df.describe"
   ]
  },
  {
   "cell_type": "markdown",
   "metadata": {},
   "source": [
    "## Check for outliers"
   ]
  },
  {
   "cell_type": "code",
   "execution_count": 7,
   "metadata": {
    "collapsed": false
   },
   "outputs": [
    {
     "name": "stdout",
     "output_type": "stream",
     "text": [
      "optimal_price                                       6.0264\n",
      "week2_price                                         3.2991\n",
      "week4_price                                         3.8201\n",
      "week6_price                                         4.0412\n",
      "suggested_price                                     5.4815\n",
      "week10_price                                        5.6769\n",
      "current_price                                       8.3379\n",
      "weeks_of_stock                                     12.2299\n",
      "current_weekly_velocity                            16.5707\n",
      "current_margin                                      6.4863\n",
      "predicted_throughput                               16.8954\n",
      "predicted_margin                                    6.0509\n",
      "stock_level                                       271.2111\n",
      "week2_margin                                        2.0070\n",
      "week4_margin                                        2.7195\n",
      "week6_margin                                        3.0175\n",
      "week8_margin                                        4.6819\n",
      "week10_margin                                       4.9513\n",
      "predicted_throughput_was_relevant_to_2_weeks       31.9793\n",
      "predicted_throughput_was_relevant_to_4_weeks       30.2141\n",
      "predicted_throughput_was_relevant_to_6_weeks       28.5118\n",
      "predicted_throughput_was_relevant_to_8_weeks       26.9967\n",
      "predicted_throughput_was_relevant_to_10_weeks      25.5487\n",
      "cost_of_the_decision_was_relevant_to_2_weeks     3341.0399\n",
      "cost_of_the_decision_was_relevant_to_4_weeks     3374.1042\n",
      "cost_of_the_decision_was_relevant_to_6_weeks     3291.4678\n",
      "cost_of_the_decision_was_relevant_to_8_weeks     3375.0000\n",
      "cost_of_the_decision_was_relevant_to_10_weeks    3291.7132\n",
      "cost_of_the_decision                             3057.7012\n",
      "cost_price                                          2.4902\n",
      "act_weeks_on_sale                                  20.5601\n",
      "original_standard_price                             6.8729\n",
      "current_standard_price                              6.8729\n",
      "current_percentage_achieved_margin                 91.4540\n",
      "suggested_price_percentage_margin                 111.7611\n",
      "price_2_weeks_percentage_margin                    11.8448\n",
      "price_4_weeks_percentage_margin                    15.3082\n",
      "price_6_weeks_percentage_margin                    19.5892\n",
      "price_8_weeks_percentage_margin                    27.0607\n",
      "price_10_weeks_percentage_margin                   28.1194\n",
      "demand_pounds_last_7_days                         309.0639\n",
      "next_7_days_weekly_velocity                        30.7568\n",
      "demand_pounds_next_7_days                         314.6819\n",
      "next_7_days_margin                                134.2873\n",
      "stock_level_next_7_days                           261.9632\n",
      "dtype: float64\n"
     ]
    }
   ],
   "source": [
    "#quick look at standard dev (include categoricals for now)\n",
    "print df.std()"
   ]
  },
  {
   "cell_type": "code",
   "execution_count": 46,
   "metadata": {
    "collapsed": false
   },
   "outputs": [
    {
     "data": {
      "text/plain": [
       "count    103.0000\n",
       "mean     328.5474\n",
       "std       91.4540\n",
       "min      166.1538\n",
       "25%      269.4907\n",
       "50%      320.0000\n",
       "75%      363.6364\n",
       "max      628.0126\n",
       "dtype: float64"
      ]
     },
     "execution_count": 46,
     "metadata": {},
     "output_type": "execute_result"
    }
   ],
   "source": [
    "#200 years old...really?\n",
    "df.current_percentage_achieved_margin.describe()"
   ]
  },
  {
   "cell_type": "code",
   "execution_count": 48,
   "metadata": {
    "collapsed": false
   },
   "outputs": [
    {
     "data": {
      "text/plain": [
       "count    103.0000\n",
       "mean     262.5491\n",
       "std      111.7611\n",
       "min       17.1488\n",
       "25%      178.0690\n",
       "50%      293.3333\n",
       "75%      350.8808\n",
       "max      493.8019\n",
       "dtype: float64"
      ]
     },
     "execution_count": 48,
     "metadata": {},
     "output_type": "execute_result"
    }
   ],
   "source": [
    "df.suggested_price_percentage_margin.describe()"
   ]
  },
  {
   "cell_type": "code",
   "execution_count": null,
   "metadata": {
    "collapsed": false
   },
   "outputs": [],
   "source": [
    "df.suggested_price_percentage_margin.describe()"
   ]
  },
  {
   "cell_type": "markdown",
   "metadata": {},
   "source": [
    "## remove outliers"
   ]
  },
  {
   "cell_type": "code",
   "execution_count": 18,
   "metadata": {
    "collapsed": false
   },
   "outputs": [
    {
     "name": "stdout",
     "output_type": "stream",
     "text": [
      "103\n",
      "27.5\n",
      "33\n",
      "18.38225083\n"
     ]
    }
   ],
   "source": [
    "#seems to be large outliers in average amount which we can remove\n",
    "def outliers(df,devs,field):\n",
    "    print(len(df))\n",
    "    print(max(df[field]))\n",
    "    a = df[np.abs(df[field]-df[field].mean())<=(devs*df[field].std())]\n",
    "    print(len(df)-len(a)) #print(a)\n",
    "    print(max(a[field]))\n",
    "    return(a)\n",
    "\n",
    "\n",
    "fld ='optimal_price'\n",
    "df1 = outliers(df,1,fld)\n",
    "#len(raw)\n",
    "#print(df1)"
   ]
  },
  {
   "cell_type": "code",
   "execution_count": 45,
   "metadata": {
    "collapsed": false
   },
   "outputs": [
    {
     "data": {
      "image/png": "[encoded data removed]",
      "text/plain": [
       "<matplotlib.figure.Figure at 0x1c50f518>"
      ]
     },
     "metadata": {},
     "output_type": "display_data"
    }
   ],
   "source": [
    "\n",
    "plt.hist(df.optimal_price, histtype='stepfilled',  color='r', alpha=0.5, label='Optimal Price')\n",
    "plt.hist(df.current_price, histtype='step', color='b', alpha=0.5, label='Current Price')\n",
    "plt.title(\"Price Histogram\")\n",
    "plt.xlabel(\"Price\")\n",
    "plt.ylabel(\"SKU count\")\n",
    "plt.legend()\n",
    "plt.show()"
   ]
  },
  {
   "cell_type": "code",
   "execution_count": 51,
   "metadata": {
    "collapsed": false
   },
   "outputs": [
    {
     "data": {
      "image/png": "[encoded data removed]",
      "text/plain": [
       "<matplotlib.figure.Figure at 0x1c3159b0>"
      ]
     },
     "metadata": {},
     "output_type": "display_data"
    }
   ],
   "source": [
    "plt.hist(df.current_percentage_achieved_margin , histtype='step', color='r', label='current')\n",
    "plt.hist(df.suggested_price_percentage_margin, histtype='step', color='b' , label='suggested')\n",
    "plt.hist(df.price_2_weeks_percentage_margin, histtype='stepfilled',  color='b', alpha=0.5, label='2 week')\n",
    "plt.hist(df.price_4_weeks_percentage_margin, histtype='stepfilled',  color='r', alpha=0.4, label='4 week')\n",
    "plt.hist(df.price_6_weeks_percentage_margin, histtype='stepfilled',  color='g', alpha=0.3, label='6 week')\n",
    "plt.hist(df.price_8_weeks_percentage_margin, histtype='stepfilled',  color='m', alpha=0.2, label='8 week')\n",
    "plt.hist(df.price_10_weeks_percentage_margin, histtype='stepfilled',  color='y', alpha=0.1, label='10 week')\n",
    "plt.title(\"Margin Histogram\")\n",
    "plt.xlabel(\"Margin\")\n",
    "plt.ylabel(\"SKU count\")\n",
    "plt.legend()\n",
    "plt.show()"
   ]
  },
  {
   "cell_type": "code",
   "execution_count": null,
   "metadata": {
    "collapsed": false
   },
   "outputs": [],
   "source": [
    "    def calculate_clearance_price(self, sku, items_sold_per_week, new_price, ideal_price, sim_items_sold_per_week, cost_price):\n",
    "        query_string = \"\"\"SELECT si.ItemID,Code,Price,sip.PriceBandId,pb.Name, bi.confirmedqtyinstock\n",
    "FROM boohoo.bh_StockItem si\n",
    "join boohoo.bh_StockItemPrice sip on si.ItemID = sip.ItemID\n",
    "join boohoo.bh_PriceBand pb on pb.PriceBandID = sip.PriceBandID\n",
    "join boohoo.bh_binitem bi on si.ItemID = bi.itemid\n",
    "where pb.Name = 'Offer Price' and split_part(Code, '-', 1) = '{0}'\"\"\".format(sku)\n",
    "        res_df_cl = pd.read_sql_query(query_string, self.engine)\n",
    "        try:\n",
    "            price = res_df_cl['price'].loc[0]\n",
    "        except: \n",
    "            price = 0\n",
    "        clearence_price = price\n",
    "        week2, week4, week6, week8, week10 = 0, 0, 0, 0, 0\n",
    "        margin2, margin4, margin6, margin8, margin10 = 0, 0, 0, 0, 0\n",
    "        tp, tp2, tp4, tp6, tp8, tp10 = 0, 0, 0, 0, 0, 0\n",
    "        cd2, cd4, cd6, cd8, cd10 = 0, 0, 0, 0, 0\n",
    "\n",
    "\n",
    "        predicted_throughput = self.sim_items_sold_per_week \n",
    "        stock_level = sum(res_df_cl['confirmedqtyinstock'])\n",
    "        try:\n",
    "            weeks_of_stock = sum(res_df_cl['confirmedqtyinstock'])/items_sold_per_week\n",
    "        except: \n",
    "            weeks_of_stock = 0\n",
    "        current_velocity = items_sold_per_week\n",
    "        current_margin = self.current_price - cost_price\n",
    "        for weeks in [2,4,6,8,10]:\n",
    "            if sum(res_df_cl['confirmedqtyinstock']) < (weeks*items_sold_per_week):\n",
    "                clearence_price = new_price\n",
    "                tp = predicted_throughput \n",
    "            else:\n",
    "                try:\n",
    "                    clearence_price = new_price*(items_sold_per_week/(sum(res_df_cl['confirmedqtyinstock'])/weeks))\n",
    "                    tp = (predicted_throughput - predicted_throughput * (items_sold_per_week/(sum(res_df_cl['confirmedqtyinstock'])/weeks))) + predicted_throughput \n",
    "                except: \n",
    "                    clearence_price = new_price\n",
    "                    tp = predicted_throughput \n",
    "\n",
    "            if clearence_price < cost_price:\n",
    "                clearence_price = cost_price\n",
    "            if new_price < price:\n",
    "                new_price = price\n",
    "            if weeks == 2:\n",
    "                week2= clearence_price\n",
    "                margin2 = week2 - cost_price\n",
    "                tp2 = tp\n",
    "                cd2 = (week2 - self.current_price)*stock_level\n",
    "            if weeks == 4:\n",
    "                week4= clearence_price\n",
    "                margin4 = week4 - cost_price\n",
    "                tp4 = tp\n",
    "                cd4 = (week4 - self.current_price)*stock_level\n",
    "            if weeks == 6:\n",
    "                week6= clearence_price\n",
    "                margin6 = week6 - cost_price\n",
    "                tp6 = tp\n",
    "                cd6 = (week6 - self.current_price)*stock_level\n",
    "            if weeks == 8:\n",
    "                week8= clearence_price\n",
    "                margin8 = week8 - cost_price\n",
    "                tp8 = tp\n",
    "                cd8 = (week8 - self.current_price)*stock_level\n",
    "            if weeks == 10:\n",
    "                week10= clearence_price\n",
    "                margin10 = week10 - cost_price\n",
    "                tp10 = tp\n",
    "                cd10 = (week10 - self.current_price)*stock_level\n",
    "\n",
    "        cost_decision = (new_price - self.current_price)*stock_level\n",
    "        predicted_margin = new_price - cost_price\n",
    "        self.spamwriter.writerow([sku, new_price, week2, week4, week6, week8, week10, self.current_price,self.actual_price, weeks_of_stock , current_velocity, current_margin,predicted_throughput,predicted_margin, stock_level, self.name, self.department, margin2, margin4, margin6, margin8, margin10, tp2, tp4, tp6, tp8, tp10, cd2, cd4, cd6, cd8, cd10, cost_decision ])\n"
   ]
  },
  {
   "cell_type": "code",
   "execution_count": 21,
   "metadata": {
    "collapsed": false
   },
   "outputs": [],
   "source": [
    "def boxplotdraw(data,colname, rowname, projname):\n",
    "    a = data.boxplot(column=colname,by=rowname,sym='k+',vert=False\n",
    "                            ,widths=0.8,notch=True,bootstrap=1000,figsize=[24,12])\n",
    "    #a.savefig(str(projname) + 'boxplot' + str(rowname) + '_by_'+str(colname)+ '20150824.png')\n",
    "    return(a)"
   ]
  },
  {
   "cell_type": "code",
   "execution_count": 11,
   "metadata": {
    "collapsed": false
   },
   "outputs": [
    {
     "name": "stdout",
     "output_type": "stream",
     "text": [
      "gender        0     1\n",
      "loan_flag            \n",
      "0          4809  4980\n",
      "1           100   111\n",
      "productcount     1     2     3     4     5\n",
      "loan_flag                                 \n",
      "0             1922  1974  1983  1950  1960\n",
      "1               47    38    36    57    33\n"
     ]
    },
    {
     "data": {
      "image/png": "[encoded data removed]",
      "text/plain": [
       "<matplotlib.figure.Figure at 0x1a96acc0>"
      ]
     },
     "metadata": {},
     "output_type": "display_data"
    }
   ],
   "source": [
    "print pd.crosstab(df['loan_flag'], df['gender'], rownames=['loan_flag'])\n",
    "#print pd.crosstab(df['loan_flag'], df['txn_freq'], rownames=['loan_flag'])\n",
    "print pd.crosstab(df['loan_flag'], df['productcount'], rownames=['loan_flag'])\n",
    "\n",
    "df.hist()\n",
    "pl.show() "
   ]
  },
  {
   "cell_type": "markdown",
   "metadata": {},
   "source": [
    "## normalise data for predictions"
   ]
  },
  {
   "cell_type": "code",
   "execution_count": 42,
   "metadata": {
    "collapsed": false
   },
   "outputs": [],
   "source": [
    "#Leave this out as it makes it seems to have little effect and makes interepting easier\n",
    "\n",
    "#def normalise(data):\n",
    "#    x_normed = data / data.max(axis=0)\n",
    "#    return(x_normed)\n",
    "#df.age= normalise(df.age.values)\n",
    "#df.productcount = normalise(df.productcount.values)\n",
    "#df.average_amount_of_ca_transaction = normalise(df.average_amount_of_ca_transaction.values)\n",
    "#df.txn_freq = normalise(df.txn_freq.values)\n",
    "#print(df.head)"
   ]
  },
  {
   "cell_type": "markdown",
   "metadata": {},
   "source": [
    "## Decision tree to understand the variables"
   ]
  },
  {
   "cell_type": "code",
   "execution_count": 13,
   "metadata": {
    "collapsed": false
   },
   "outputs": [
    {
     "name": "stdout",
     "output_type": "stream",
     "text": [
      "<pydot.Dot object at 0x0000000018FFA048>\n"
     ]
    },
    {
     "data": {
      "text/plain": [
       "True"
      ]
     },
     "execution_count": 13,
     "metadata": {},
     "output_type": "execute_result"
    }
   ],
   "source": [
    "from sklearn import tree\n",
    ">>> from sklearn.externals.six import StringIO  \n",
    ">>> import pydot \n",
    "\n",
    "import time\n",
    "ts = time.time()\n",
    "\n",
    "train_cols = df1[['age','gender','previousloans','productcount','average_amount_of_ca_transaction','txn_freq']]\n",
    "\n",
    "y = df1[\"loan_flag\"]\n",
    "X = train_cols\n",
    "#five levels, to make it easy to read\n",
    "clf = tree.DecisionTreeClassifier(min_samples_split=10, random_state=9,max_depth=5)\n",
    "clf = clf.fit(X, y)\n",
    "\n",
    "\n",
    "featurenames = ['age','gender','previousloans','productcount','average_amount_of_ca_transaction','txn_freq']\n",
    "dot_data = StringIO() \n",
    "tree.export_graphviz(clf, out_file=dot_data,feature_names=featurenames) \n",
    "graph = pydot.graph_from_dot_data(dot_data.getvalue())\n",
    "print(graph)\n",
    "graph.write_png('decision_tree_'+str(ts) +'_unnormalised_.png')"
   ]
  },
  {
   "cell_type": "markdown",
   "metadata": {},
   "source": [
    "## Single variable analysis"
   ]
  },
  {
   "cell_type": "code",
   "execution_count": 111,
   "metadata": {
    "collapsed": false
   },
   "outputs": [
    {
     "name": "stdout",
     "output_type": "stream",
     "text": [
      "9470\n",
      "100\n"
     ]
    }
   ],
   "source": [
    "print(dfp['average_amount_of_ca_transaction'].max())\n",
    "print(dfp['txn_freq'].max())\n"
   ]
  },
  {
   "cell_type": "code",
   "execution_count": 138,
   "metadata": {
    "collapsed": false
   },
   "outputs": [
    {
     "data": {
      "text/plain": [
       "<matplotlib.legend.Legend at 0x27b1d630>"
      ]
     },
     "execution_count": 138,
     "metadata": {},
     "output_type": "execute_result"
    },
    {
     "data": {
      "image/png": "[encoded data removed]",
      "text/plain": [
       "<matplotlib.figure.Figure at 0x24c68208>"
      ]
     },
     "metadata": {},
     "output_type": "display_data"
    }
   ],
   "source": [
    "df0 = df1[df[\"loan_flag\"] == 0]\n",
    "dfloan = df1[df[\"loan_flag\"] == 1]\n",
    "\n",
    "dfp0 = dfr[dfr[\"0\"] < 0.05]\n",
    "#dfploan = dfr[dfr[\"0\"] > 0.6]\n",
    "\n",
    "\n",
    "\n",
    "#sns.distplot(dfploan[\"age\"],color = \"blue\")\n",
    "sns.distplot(df0[\"age\"],color = \"blue\", label = \"no loan\")\n",
    "sns.distplot(dfploan[\"age\"],color = \"green\", label = \"loan\")\n",
    "plt.legend()\n"
   ]
  },
  {
   "cell_type": "code",
   "execution_count": 140,
   "metadata": {
    "collapsed": false
   },
   "outputs": [
    {
     "data": {
      "text/plain": [
       "<matplotlib.legend.Legend at 0x28660390>"
      ]
     },
     "execution_count": 140,
     "metadata": {},
     "output_type": "execute_result"
    },
    {
     "data": {
      "image/png": "[encoded data removed]",
      "text/plain": [
       "<matplotlib.figure.Figure at 0x27bf0860>"
      ]
     },
     "metadata": {},
     "output_type": "display_data"
    }
   ],
   "source": [
    "sns.distplot(df0[\"gender\"],color = \"blue\", label = \"no loan\")\n",
    "sns.distplot(dfloan[\"gender\"],color = \"green\", label = \"loan\")\n",
    "plt.legend()"
   ]
  },
  {
   "cell_type": "code",
   "execution_count": 149,
   "metadata": {
    "collapsed": false
   },
   "outputs": [
    {
     "data": {
      "text/plain": [
       "<matplotlib.legend.Legend at 0x2c01fa90>"
      ]
     },
     "execution_count": 149,
     "metadata": {},
     "output_type": "execute_result"
    },
    {
     "data": {
      "image/png": "[encoded data removed]",
      "text/plain": [
       "<matplotlib.figure.Figure at 0x2b8427f0>"
      ]
     },
     "metadata": {},
     "output_type": "display_data"
    }
   ],
   "source": [
    "sns.distplot(df0['productcount'],color = \"blue\", label = \"no loan\")\n",
    "sns.distplot(dfloan['productcount'],color = \"green\", label = \"loan\")\n",
    "plt.legend()"
   ]
  },
  {
   "cell_type": "code",
   "execution_count": 148,
   "metadata": {
    "collapsed": false
   },
   "outputs": [
    {
     "data": {
      "text/plain": [
       "<matplotlib.legend.Legend at 0x2b46c588>"
      ]
     },
     "execution_count": 148,
     "metadata": {},
     "output_type": "execute_result"
    },
    {
     "data": {
      "image/png": "[encoded data removed]",
      "text/plain": [
       "<matplotlib.figure.Figure at 0x2b067668>"
      ]
     },
     "metadata": {},
     "output_type": "display_data"
    }
   ],
   "source": [
    "sns.distplot(df0['average_amount_of_ca_transaction'],color = \"blue\", label = \"no loan\")\n",
    "sns.distplot(dfloan['average_amount_of_ca_transaction'],color = \"green\", label = \"loan\")\n",
    "plt.legend()"
   ]
  },
  {
   "cell_type": "code",
   "execution_count": 147,
   "metadata": {
    "collapsed": false
   },
   "outputs": [
    {
     "data": {
      "text/plain": [
       "<matplotlib.legend.Legend at 0x2b0795c0>"
      ]
     },
     "execution_count": 147,
     "metadata": {},
     "output_type": "execute_result"
    },
    {
     "data": {
      "image/png": "[encoded data removed]",
      "text/plain": [
       "<matplotlib.figure.Figure at 0x2aee3978>"
      ]
     },
     "metadata": {},
     "output_type": "display_data"
    }
   ],
   "source": [
    "sns.distplot(df0['txn_freq'],color = \"blue\", label = \"no loan\")\n",
    "sns.distplot(dfloan['txn_freq'],color = \"green\", label = \"loan\")\n",
    "plt.legend()"
   ]
  },
  {
   "cell_type": "code",
   "execution_count": 58,
   "metadata": {
    "collapsed": false
   },
   "outputs": [
    {
     "name": "stdout",
     "output_type": "stream",
     "text": [
      "           loan_flag     age\n",
      "loan_flag     1.0000  0.0281\n",
      "age           0.0281  1.0000\n",
      "          0     age\n",
      "0    1.0000  0.0253\n",
      "age  0.0253  1.0000\n"
     ]
    }
   ],
   "source": [
    "#age = (df1[\"age\"])\n",
    "o = df1[[\"loan_flag\",\"age\"]]\n",
    "#print(age)\n",
    "r = o.corr()\n",
    "print(r)\n",
    "#age = (df1[\"age\"])\n",
    "\n",
    "o = dfr[[\"0\",\"age\"]]\n",
    "#print(age)\n",
    "r = o.corr()\n",
    "print(r)"
   ]
  },
  {
   "cell_type": "code",
   "execution_count": 59,
   "metadata": {
    "collapsed": false
   },
   "outputs": [
    {
     "name": "stdout",
     "output_type": "stream",
     "text": [
      "           loan_flag  gender\n",
      "loan_flag     1.0000  0.0037\n",
      "gender        0.0037  1.0000\n",
      "             0  gender\n",
      "0       1.0000 -0.0055\n",
      "gender -0.0055  1.0000\n"
     ]
    }
   ],
   "source": [
    "o = df1[[\"loan_flag\",\"gender\"]]\n",
    "#print(age)\n",
    "r = o.corr()\n",
    "print(r)\n",
    "\n",
    "o = dfr[[\"0\",\"gender\"]]\n",
    "#print(age)\n",
    "r = o.corr()\n",
    "print(r)"
   ]
  },
  {
   "cell_type": "code",
   "execution_count": 60,
   "metadata": {
    "collapsed": false
   },
   "outputs": [
    {
     "name": "stdout",
     "output_type": "stream",
     "text": [
      "               loan_flag  previousloans\n",
      "loan_flag         1.0000         0.0162\n",
      "previousloans     0.0162         1.0000\n",
      "                    0  previousloans\n",
      "0              1.0000         0.0105\n",
      "previousloans  0.0105         1.0000\n"
     ]
    }
   ],
   "source": [
    "o = df1[[\"loan_flag\",'previousloans']]\n",
    "#print(age)\n",
    "r = o.corr()\n",
    "print(r)\n",
    "o = dfr[[\"0\",'previousloans']]\n",
    "#print(age)\n",
    "r = o.corr()\n",
    "print(r)"
   ]
  },
  {
   "cell_type": "code",
   "execution_count": 61,
   "metadata": {
    "collapsed": false
   },
   "outputs": [
    {
     "name": "stdout",
     "output_type": "stream",
     "text": [
      "              loan_flag  productcount\n",
      "loan_flag        1.0000       -0.0049\n",
      "productcount    -0.0049        1.0000\n",
      "                   0  productcount\n",
      "0             1.0000       -0.0572\n",
      "productcount -0.0572        1.0000\n"
     ]
    }
   ],
   "source": [
    "o = df1[[\"loan_flag\",'productcount']]\n",
    "#print(age)\n",
    "r = o.corr()\n",
    "print(r)\n",
    "\n",
    "o = dfr[[\"0\",'productcount']]\n",
    "#print(age)\n",
    "r = o.corr()\n",
    "print(r)"
   ]
  },
  {
   "cell_type": "code",
   "execution_count": 62,
   "metadata": {
    "collapsed": false
   },
   "outputs": [
    {
     "name": "stdout",
     "output_type": "stream",
     "text": [
      "                                  loan_flag  average_amount_of_ca_transaction\n",
      "loan_flag                            1.0000                            0.3248\n",
      "average_amount_of_ca_transaction     0.3248                            1.0000\n",
      "                                       0  average_amount_of_ca_transaction\n",
      "0                                 1.0000                            0.2671\n",
      "average_amount_of_ca_transaction  0.2671                            1.0000\n"
     ]
    }
   ],
   "source": [
    "o = df1[[\"loan_flag\",'average_amount_of_ca_transaction']]\n",
    "#print(age)\n",
    "r = o.corr()\n",
    "print(r)\n",
    "\n",
    "o = dfr[[\"0\",'average_amount_of_ca_transaction']]\n",
    "#print(age)\n",
    "r = o.corr()\n",
    "print(r)"
   ]
  },
  {
   "cell_type": "code",
   "execution_count": 63,
   "metadata": {
    "collapsed": false
   },
   "outputs": [
    {
     "name": "stdout",
     "output_type": "stream",
     "text": [
      "           loan_flag  txn_freq\n",
      "loan_flag     1.0000    0.3059\n",
      "txn_freq      0.3059    1.0000\n",
      "               0  txn_freq\n",
      "0         1.0000    0.6884\n",
      "txn_freq  0.6884    1.0000\n"
     ]
    }
   ],
   "source": [
    "o = df1[[\"loan_flag\",'txn_freq']]\n",
    "#print(age)\n",
    "r = o.corr()\n",
    "print(r)\n",
    "\n",
    "o = dfr[[\"0\",'txn_freq']]\n",
    "#print(age)\n",
    "r = o.corr()\n",
    "print(r)"
   ]
  },
  {
   "cell_type": "code",
   "execution_count": 112,
   "metadata": {
    "collapsed": false
   },
   "outputs": [
    {
     "name": "stdout",
     "output_type": "stream",
     "text": [
      "(2000, 7)\n"
     ]
    }
   ],
   "source": [
    "pname = 'quintile_results_v2.csv'\n",
    "results = getcsv(pname,Idirname,textfieldname)\n",
    "dfr = results[['age','gender','previousloans','productcount','average_amount_of_ca_transaction','txn_freq','0']]\n",
    "features = ['age','gender','previousloans','productcount','average_amount_of_ca_transaction','txn_freq']\n",
    "\n",
    "\n",
    "fld ='age'\n",
    "dft = outliers(dfp,10,fld)"
   ]
  },
  {
   "cell_type": "code",
   "execution_count": 3,
   "metadata": {
    "collapsed": false
   },
   "outputs": [],
   "source": []
  },
  {
   "cell_type": "markdown",
   "metadata": {},
   "source": [
    "## lift plotting"
   ]
  },
  {
   "cell_type": "code",
   "execution_count": 108,
   "metadata": {
    "collapsed": false
   },
   "outputs": [
    {
     "ename": "TypeError",
     "evalue": "from_bounds() argument after * must be a sequence, not int",
     "output_type": "error",
     "traceback": [
      "\u001b[1;31m---------------------------------------------------------------------------\u001b[0m\n\u001b[1;31mTypeError\u001b[0m                                 Traceback (most recent call last)",
      "\u001b[1;32m<ipython-input-108-14e7978b783a>\u001b[0m in \u001b[0;36m<module>\u001b[1;34m()\u001b[0m\n\u001b[1;32m----> 1\u001b[1;33m \u001b[0mliftCurveFigure\u001b[0m\u001b[1;33m,\u001b[0m \u001b[0max\u001b[0m \u001b[1;33m=\u001b[0m \u001b[0mplt\u001b[0m\u001b[1;33m.\u001b[0m\u001b[0msubplots\u001b[0m\u001b[1;33m(\u001b[0m\u001b[0mfigsize\u001b[0m\u001b[1;33m=\u001b[0m\u001b[1;36m7\u001b[0m\u001b[1;33m)\u001b[0m\u001b[1;33m\u001b[0m\u001b[0m\n\u001b[0m\u001b[0;32m      2\u001b[0m \u001b[0max\u001b[0m\u001b[1;33m.\u001b[0m\u001b[0mgrid\u001b[0m\u001b[1;33m(\u001b[0m\u001b[0mTrue\u001b[0m\u001b[1;33m,\u001b[0m \u001b[0malpha\u001b[0m\u001b[1;33m=\u001b[0m\u001b[1;36m0.3\u001b[0m\u001b[1;33m)\u001b[0m\u001b[1;33m\u001b[0m\u001b[0m\n\u001b[0;32m      3\u001b[0m \u001b[0max\u001b[0m\u001b[1;33m.\u001b[0m\u001b[0mset_autoscaley_on\u001b[0m\u001b[1;33m(\u001b[0m\u001b[0mFalse\u001b[0m\u001b[1;33m)\u001b[0m\u001b[1;33m\u001b[0m\u001b[0m\n\u001b[0;32m      4\u001b[0m \u001b[0max\u001b[0m\u001b[1;33m.\u001b[0m\u001b[0mset_ylim\u001b[0m\u001b[1;33m(\u001b[0m\u001b[1;33m[\u001b[0m\u001b[1;36m0\u001b[0m\u001b[1;33m,\u001b[0m\u001b[1;36m100\u001b[0m\u001b[1;33m]\u001b[0m\u001b[1;33m)\u001b[0m\u001b[1;33m\u001b[0m\u001b[0m\n\u001b[0;32m      5\u001b[0m \u001b[1;32mfor\u001b[0m \u001b[0mmodelName\u001b[0m\u001b[1;33m,\u001b[0m \u001b[0mprobs\u001b[0m \u001b[1;32min\u001b[0m \u001b[0mfinalPredictions\u001b[0m\u001b[1;33m.\u001b[0m\u001b[0miteritems\u001b[0m\u001b[1;33m(\u001b[0m\u001b[1;33m)\u001b[0m\u001b[1;33m:\u001b[0m\u001b[1;33m\u001b[0m\u001b[0m\n",
      "\u001b[1;32mC:\\Anaconda\\lib\\site-packages\\matplotlib\\pyplot.pyc\u001b[0m in \u001b[0;36msubplots\u001b[1;34m(nrows, ncols, sharex, sharey, squeeze, subplot_kw, **fig_kw)\u001b[0m\n\u001b[0;32m   1044\u001b[0m         \u001b[0msubplot_kw\u001b[0m \u001b[1;33m=\u001b[0m \u001b[1;33m{\u001b[0m\u001b[1;33m}\u001b[0m\u001b[1;33m\u001b[0m\u001b[0m\n\u001b[0;32m   1045\u001b[0m \u001b[1;33m\u001b[0m\u001b[0m\n\u001b[1;32m-> 1046\u001b[1;33m     \u001b[0mfig\u001b[0m \u001b[1;33m=\u001b[0m \u001b[0mfigure\u001b[0m\u001b[1;33m(\u001b[0m\u001b[1;33m**\u001b[0m\u001b[0mfig_kw\u001b[0m\u001b[1;33m)\u001b[0m\u001b[1;33m\u001b[0m\u001b[0m\n\u001b[0m\u001b[0;32m   1047\u001b[0m \u001b[1;33m\u001b[0m\u001b[0m\n\u001b[0;32m   1048\u001b[0m     \u001b[1;31m# Create empty object array to hold all axes.  It's easiest to make it 1-d\u001b[0m\u001b[1;33m\u001b[0m\u001b[1;33m\u001b[0m\u001b[0m\n",
      "\u001b[1;32mC:\\Anaconda\\lib\\site-packages\\matplotlib\\pyplot.pyc\u001b[0m in \u001b[0;36mfigure\u001b[1;34m(num, figsize, dpi, facecolor, edgecolor, frameon, FigureClass, **kwargs)\u001b[0m\n\u001b[0;32m    421\u001b[0m                                         \u001b[0mframeon\u001b[0m\u001b[1;33m=\u001b[0m\u001b[0mframeon\u001b[0m\u001b[1;33m,\u001b[0m\u001b[1;33m\u001b[0m\u001b[0m\n\u001b[0;32m    422\u001b[0m                                         \u001b[0mFigureClass\u001b[0m\u001b[1;33m=\u001b[0m\u001b[0mFigureClass\u001b[0m\u001b[1;33m,\u001b[0m\u001b[1;33m\u001b[0m\u001b[0m\n\u001b[1;32m--> 423\u001b[1;33m                                         **kwargs)\n\u001b[0m\u001b[0;32m    424\u001b[0m \u001b[1;33m\u001b[0m\u001b[0m\n\u001b[0;32m    425\u001b[0m         \u001b[1;32mif\u001b[0m \u001b[0mfigLabel\u001b[0m\u001b[1;33m:\u001b[0m\u001b[1;33m\u001b[0m\u001b[0m\n",
      "\u001b[1;32mC:\\Anaconda\\lib\\site-packages\\matplotlib\\backends\\backend_agg.pyc\u001b[0m in \u001b[0;36mnew_figure_manager\u001b[1;34m(num, *args, **kwargs)\u001b[0m\n\u001b[0;32m    407\u001b[0m \u001b[1;33m\u001b[0m\u001b[0m\n\u001b[0;32m    408\u001b[0m     \u001b[0mFigureClass\u001b[0m \u001b[1;33m=\u001b[0m \u001b[0mkwargs\u001b[0m\u001b[1;33m.\u001b[0m\u001b[0mpop\u001b[0m\u001b[1;33m(\u001b[0m\u001b[1;34m'FigureClass'\u001b[0m\u001b[1;33m,\u001b[0m \u001b[0mFigure\u001b[0m\u001b[1;33m)\u001b[0m\u001b[1;33m\u001b[0m\u001b[0m\n\u001b[1;32m--> 409\u001b[1;33m     \u001b[0mthisFig\u001b[0m \u001b[1;33m=\u001b[0m \u001b[0mFigureClass\u001b[0m\u001b[1;33m(\u001b[0m\u001b[1;33m*\u001b[0m\u001b[0margs\u001b[0m\u001b[1;33m,\u001b[0m \u001b[1;33m**\u001b[0m\u001b[0mkwargs\u001b[0m\u001b[1;33m)\u001b[0m\u001b[1;33m\u001b[0m\u001b[0m\n\u001b[0m\u001b[0;32m    410\u001b[0m     \u001b[1;32mreturn\u001b[0m \u001b[0mnew_figure_manager_given_figure\u001b[0m\u001b[1;33m(\u001b[0m\u001b[0mnum\u001b[0m\u001b[1;33m,\u001b[0m \u001b[0mthisFig\u001b[0m\u001b[1;33m)\u001b[0m\u001b[1;33m\u001b[0m\u001b[0m\n\u001b[0;32m    411\u001b[0m \u001b[1;33m\u001b[0m\u001b[0m\n",
      "\u001b[1;32mC:\\Anaconda\\lib\\site-packages\\matplotlib\\figure.pyc\u001b[0m in \u001b[0;36m__init__\u001b[1;34m(self, figsize, dpi, facecolor, edgecolor, linewidth, frameon, subplotpars, tight_layout)\u001b[0m\n\u001b[0;32m    311\u001b[0m         \u001b[0mself\u001b[0m\u001b[1;33m.\u001b[0m\u001b[0mdpi_scale_trans\u001b[0m \u001b[1;33m=\u001b[0m \u001b[0mAffine2D\u001b[0m\u001b[1;33m(\u001b[0m\u001b[1;33m)\u001b[0m\u001b[1;33m\u001b[0m\u001b[0m\n\u001b[0;32m    312\u001b[0m         \u001b[0mself\u001b[0m\u001b[1;33m.\u001b[0m\u001b[0mdpi\u001b[0m \u001b[1;33m=\u001b[0m \u001b[0mdpi\u001b[0m\u001b[1;33m\u001b[0m\u001b[0m\n\u001b[1;32m--> 313\u001b[1;33m         \u001b[0mself\u001b[0m\u001b[1;33m.\u001b[0m\u001b[0mbbox_inches\u001b[0m \u001b[1;33m=\u001b[0m \u001b[0mBbox\u001b[0m\u001b[1;33m.\u001b[0m\u001b[0mfrom_bounds\u001b[0m\u001b[1;33m(\u001b[0m\u001b[1;36m0\u001b[0m\u001b[1;33m,\u001b[0m \u001b[1;36m0\u001b[0m\u001b[1;33m,\u001b[0m \u001b[1;33m*\u001b[0m\u001b[0mfigsize\u001b[0m\u001b[1;33m)\u001b[0m\u001b[1;33m\u001b[0m\u001b[0m\n\u001b[0m\u001b[0;32m    314\u001b[0m         \u001b[0mself\u001b[0m\u001b[1;33m.\u001b[0m\u001b[0mbbox\u001b[0m \u001b[1;33m=\u001b[0m \u001b[0mTransformedBbox\u001b[0m\u001b[1;33m(\u001b[0m\u001b[0mself\u001b[0m\u001b[1;33m.\u001b[0m\u001b[0mbbox_inches\u001b[0m\u001b[1;33m,\u001b[0m \u001b[0mself\u001b[0m\u001b[1;33m.\u001b[0m\u001b[0mdpi_scale_trans\u001b[0m\u001b[1;33m)\u001b[0m\u001b[1;33m\u001b[0m\u001b[0m\n\u001b[0;32m    315\u001b[0m \u001b[1;33m\u001b[0m\u001b[0m\n",
      "\u001b[1;31mTypeError\u001b[0m: from_bounds() argument after * must be a sequence, not int"
     ]
    }
   ],
   "source": [
    "from math import log\n",
    "\n",
    "def sortTestSetByProbability(y_test, y_probs):\n",
    "    sortedIndexList = sorted(range(len(y_probs)), key=lambda k: y_probs[k], reverse=True)\n",
    "    return [(y_probs[i], y_test[i], i) for i in sortedIndexList]\n",
    "\n",
    "def calculateLift(sortedProbsAndTrueLabels, nrPercentiles=10, posLabel=1):\n",
    "    ''' Input is a list of tuples containing (prob, true label), sorted in descending order per prob\n",
    "        Output is a a list of nrPercentiles tuples containing, for each percentile:\n",
    "        (percentOfTargetPopulationInThisPercentile,\n",
    "         percentOfPositivePopulationInThisPercentile,\n",
    "         cumulativeLift,\n",
    "         localLift\n",
    "         )\n",
    "    '''\n",
    "    numberOfPositiveInstances = len([x for x in sortedProbsAndTrueLabels if x[1] == posLabel])\n",
    "    percentileSplitOfInstances = [np_array.tolist() for np_array in np.array_split(np.array([x[1] for x in sortedProbsAndTrueLabels]), nrPercentiles)]\n",
    "#    print \"len(percentileSplitOfInstances) = \", len(percentileSplitOfInstances)\n",
    "#    print \"percentileSplitOfInstances[0:2] = \", percentileSplitOfInstances[0:2]\n",
    "    result = [(0.0,0.0,0.0,0.0)]\n",
    "    cumulativePercentage = 0.0\n",
    "    cumulativeLift = 0\n",
    "    localLift = 0\n",
    "    for c in range(len(percentileSplitOfInstances)):\n",
    "        percentile = percentileSplitOfInstances[c]\n",
    "        nrPositivesInPercentile = len([x for x in percentile if x == posLabel])\n",
    "        p = float(c+1)/float(nrPercentiles)\n",
    "        cumulativePercentage += float(nrPositivesInPercentile)/float(numberOfPositiveInstances)\n",
    "        cumulativeLift = cumulativePercentage/p\n",
    "        localLift = (float(nrPositivesInPercentile)/float(numberOfPositiveInstances))/(1.0/float(nrPercentiles))\n",
    "        result.append((p,cumulativePercentage,cumulativeLift, localLift))\n",
    "    return result\n",
    "\n",
    "def plotLiftCurve(numberOfPercentiles=10, figSize=5):\n",
    "    # Define some CSS to control our custom labels\n",
    "    css = \"\"\"\n",
    "table {\n",
    "  border-collapse: collapse;\n",
    "}\n",
    "th {\n",
    "  color: #ffffff;\n",
    "  background-color: #000000;\n",
    "}\n",
    "td {\n",
    "  padding: 2px;\n",
    "  background-color: #cccccc;\n",
    "}\n",
    "table, th, td {\n",
    "  font-family:Arial, Helvetica, sans-serif;\n",
    "  border: 1px solid black;\n",
    "  text-align: right;\n",
    "}\n",
    "\"\"\"\n",
    "liftCurveFigure, ax = plt.subplots(figsize=7)\n",
    "ax.grid(True, alpha=0.3)\n",
    "ax.set_autoscaley_on(False)\n",
    "ax.set_ylim([0,100])\n",
    "for modelName, probs in finalPredictions.iteritems():\n",
    "    modelNameShort = re.split(\"\\s+\", modelName)[0]\n",
    "    y_probs = [x[1] for x in finalPredictions[modelName]['test']]\n",
    "    sortedProbsAndTrueLabels = sortTestSetByProbability(y_test,y_probs)\n",
    "    lifts = calculateLift(sortedProbsAndTrueLabels, nrPercentiles=numberOfPercentiles, posLabel=1)\n",
    "#        print modelName, lifts\n",
    "    xPerc = [x[0]*100 for x in lifts]\n",
    "    yPerc = [x[1]*100 for x in lifts]\n",
    "    ax.set_title(\"Lift curve for prediction of successful term deposit sale\", y=1.06, fontsize=14 + log(figSize))\n",
    "ax.set_xlabel(\"Percentage of test instances (decreasing by probability)\", labelpad=15 + log(figSize), fontsize=12 + log(figSize))\n",
    "ax.set_ylabel(\"Percentage of positive instances targeted\", labelpad=15 + log(figSize), fontsize=12 + log(figSize))\n",
    "plt.legend(loc=4)\n",
    "plt.show()\n",
    "    "
   ]
  },
  {
   "cell_type": "markdown",
   "metadata": {},
   "source": [
    "## Logistic regression classifier"
   ]
  },
  {
   "cell_type": "code",
   "execution_count": 51,
   "metadata": {
    "collapsed": false
   },
   "outputs": [
    {
     "data": {
      "text/plain": [
       "0.98350000000000004"
      ]
     },
     "execution_count": 51,
     "metadata": {},
     "output_type": "execute_result"
    }
   ],
   "source": [
    "#normalising to Log regression is very important\n",
    "def normalise(data):\n",
    "    x_normed = data / data.max(axis=0)\n",
    "    return(x_normed)\n",
    "df.age= normalise(df.age.values)\n",
    "df.productcount = normalise(df.productcount.values)\n",
    "df.average_amount_of_ca_transaction = normalise(df.average_amount_of_ca_transaction.values)\n",
    "df.txn_freq = normalise(df.txn_freq.values)\n",
    "#print(df.head)\n",
    "\n",
    "train_cols = df[['age','gender','previousloans','productcount','average_amount_of_ca_transaction','txn_freq']]\n",
    "\n",
    "y = df[\"loan_flag\"]\n",
    "X = train_cols\n",
    "# instantiate a logistic regression model, and fit with X and y\n",
    "model = LogisticRegression()\n",
    "model = model.fit(X, y)\n",
    "\n",
    "# check the accuracy on the training set - 98% ....REALlY?\n",
    "model.score(X, y)"
   ]
  },
  {
   "cell_type": "code",
   "execution_count": 11,
   "metadata": {
    "collapsed": false
   },
   "outputs": [
    {
     "data": {
      "text/html": [
       "<div style=\"max-height:1000px;max-width:1500px;overflow:auto;\">\n",
       "<table border=\"1\" class=\"dataframe\">\n",
       "  <thead>\n",
       "    <tr style=\"text-align: right;\">\n",
       "      <th></th>\n",
       "      <th>0</th>\n",
       "      <th>1</th>\n",
       "    </tr>\n",
       "  </thead>\n",
       "  <tbody>\n",
       "    <tr>\n",
       "      <th>0</th>\n",
       "      <td>                              age</td>\n",
       "      <td>   [1.46769490347]</td>\n",
       "    </tr>\n",
       "    <tr>\n",
       "      <th>1</th>\n",
       "      <td>                           gender</td>\n",
       "      <td> [-0.103960225706]</td>\n",
       "    </tr>\n",
       "    <tr>\n",
       "      <th>2</th>\n",
       "      <td>                    previousloans</td>\n",
       "      <td>  [0.169576935985]</td>\n",
       "    </tr>\n",
       "    <tr>\n",
       "      <th>3</th>\n",
       "      <td>                     productcount</td>\n",
       "      <td> [-0.492904210861]</td>\n",
       "    </tr>\n",
       "    <tr>\n",
       "      <th>4</th>\n",
       "      <td> average_amount_of_ca_transaction</td>\n",
       "      <td>     [8.605826748]</td>\n",
       "    </tr>\n",
       "    <tr>\n",
       "      <th>5</th>\n",
       "      <td>                         txn_freq</td>\n",
       "      <td>   [5.91950122815]</td>\n",
       "    </tr>\n",
       "  </tbody>\n",
       "</table>\n",
       "</div>"
      ],
      "text/plain": [
       "                                  0                  1\n",
       "0                               age    [1.46769490347]\n",
       "1                            gender  [-0.103960225706]\n",
       "2                     previousloans   [0.169576935985]\n",
       "3                      productcount  [-0.492904210861]\n",
       "4  average_amount_of_ca_transaction      [8.605826748]\n",
       "5                          txn_freq    [5.91950122815]"
      ]
     },
     "execution_count": 11,
     "metadata": {},
     "output_type": "execute_result"
    }
   ],
   "source": [
    "# examine the coefficients\n",
    "pd.DataFrame(zip(X.columns, np.transpose(model.coef_)))\n",
    "\n",
    "#product count and gender seem to have a negative influence on becoming a loan person\n",
    "\n",
    "#value of transactions and how often you tranaction seems to have a heavier influence, \n",
    "#age seems to be corelated it does not appear to be a determining factor when compared with customer value and behaviour\n",
    "#previous loans does not appear that significant"
   ]
  },
  {
   "cell_type": "code",
   "execution_count": 14,
   "metadata": {
    "collapsed": false
   },
   "outputs": [
    {
     "name": "stdout",
     "output_type": "stream",
     "text": [
      "0.982\n",
      "0.977863975888\n",
      "[[2931    4]\n",
      " [  50   15]]\n",
      "             precision    recall  f1-score   support\n",
      "\n",
      "          0       0.98      1.00      0.99      2935\n",
      "          1       0.79      0.23      0.36        65\n",
      "\n",
      "avg / total       0.98      0.98      0.98      3000\n",
      "\n",
      "0.9831\n"
     ]
    }
   ],
   "source": [
    "X_train, X_test, y_train, y_test = train_test_split(X, y, test_size=0.3, random_state=0)\n",
    "model2 = LogisticRegression()\n",
    "model2.fit(X_train, y_train)\n",
    "predicted = model2.predict(X_test)\n",
    "\n",
    "#pd.DataFrame(predicted).to_csv('log_results.csv',encoding='utf-8', index=False)\n",
    "# generate class probabilities\n",
    "probs = model2.predict_proba(X_test)\n",
    "# generate evaluation metrics\n",
    "print metrics.accuracy_score(y_test, predicted)\n",
    "print metrics.roc_auc_score(y_test, probs[:, 1])\n",
    "\n",
    "print metrics.confusion_matrix(y_test, predicted)\n",
    "print metrics.classification_report(y_test, predicted)\n",
    "\n",
    "# evaluate the model using 10-fold cross-validation\n",
    "scores = cross_val_score(LogisticRegression(), X, y, scoring='accuracy', cv=10)\n",
    "#print scores\n",
    "print scores.mean()"
   ]
  },
  {
   "cell_type": "code",
   "execution_count": 54,
   "metadata": {
    "collapsed": false
   },
   "outputs": [
    {
     "name": "stdout",
     "output_type": "stream",
     "text": [
      "<bound method DataFrame.head of         age  gender  previousloans  productcount  average_amount_of_ca_transaction  txn_freq  loan_flag       0       1\n",
      "0     0.180       1              0           0.8                            0.0061      0.00          0  0.9988  0.0012\n",
      "1     0.215       1              0           0.8                            0.2812      0.17          0  0.9733  0.0267\n",
      "2     0.160       0              0           0.4                            0.0049      0.25          0  0.9933  0.0067\n",
      "3     0.260       1              0           0.4                            0.0000      0.13          0  0.9969  0.0031\n",
      "4     0.315       0              0           0.2                            0.0133      0.39          0  0.9807  0.0193\n",
      "5     0.165       0              0           0.4                            0.0357      0.39          0  0.9820  0.0180\n",
      "6     0.125       0              0           0.2                            0.0000      0.16          0  0.9956  0.0044\n",
      "7     0.340       1              1           0.8                            0.1032      0.17          0  0.9931  0.0069\n",
      "8     0.120       0              0           0.8                            0.0023      0.05          0  0.9983  0.0017\n",
      "9     0.170       0              0           0.4                            0.0121      0.05          0  0.9975  0.0025\n",
      "10    0.270       0              0           0.8                            0.0096      0.00          0  0.9985  0.0015\n",
      "11    0.320       0              0           0.4                            0.0000      0.00          0  0.9981  0.0019\n",
      "12    0.155       1              0           0.2                            0.0245      0.00          0  0.9980  0.0020\n",
      "13    0.165       1              0           0.4                            0.0000      0.23          0  0.9951  0.0049\n",
      "14    0.185       0              0           1.0                            0.0076      0.00          0  0.9988  0.0012\n",
      "15    0.145       0              0           0.4                            0.0414      0.00          0  0.9977  0.0023\n",
      "16    0.255       1              0           0.4                            0.0000      0.11          0  0.9972  0.0028\n",
      "17    0.115       1              0           0.6                            0.0000      0.00          0  0.9988  0.0012\n",
      "18    0.150       0              0           0.4                            0.0342      0.00          0  0.9978  0.0022\n",
      "19    0.135       0              0           0.2                            0.0100      0.37          0  0.9852  0.0148\n",
      "20    0.240       1              1           0.6                            0.0706      0.21          0  0.9930  0.0070\n",
      "21    0.240       0              0           0.8                            0.0000      0.17          0  0.9966  0.0034\n",
      "22    0.205       1              0           0.4                            0.0000      0.63          0  0.9589  0.0411\n",
      "23    0.285       1              0           0.4                            0.0000      0.11          0  0.9972  0.0028\n",
      "24    0.175       0              0           0.2                            0.1224      0.35          1  0.9666  0.0334\n",
      "25    0.250       1              0           1.0                            0.0000      0.55          0  0.9811  0.0189\n",
      "26    0.260       0              1           0.8                            0.0000      0.19          0  0.9962  0.0038\n",
      "27    0.230       0              0           0.2                            0.0296      0.20          0  0.9924  0.0076\n",
      "28    0.110       1              0           0.4                            0.1445      0.30          0  0.9785  0.0215\n",
      "29    0.225       0              0           0.4                            0.0000      0.15          0  0.9960  0.0040\n",
      "30    0.105       1              0           0.6                            0.0004      0.08          0  0.9982  0.0018\n",
      "31    0.115       1              1           0.2                            0.0370      0.26          0  0.9917  0.0083\n",
      "32    0.190       0              0           0.4                            0.0000      0.95          0  0.7810  0.2190\n",
      "33    0.160       0              0           0.8                            1.0000      0.00          0  0.1884  0.8116\n",
      "34    0.310       1              0           0.8                            0.3114      0.00          0  0.9850  0.0150\n",
      "35    0.165       1              0           0.8                            0.0000      0.14          0  0.9977  0.0023\n",
      "36    0.105       1              0           0.2                            0.0030      0.04          0  0.9980  0.0020\n",
      "37    0.300       0              0           0.8                            0.0000      0.09          0  0.9977  0.0023\n",
      "38    0.135       0              1           0.4                            0.0000      0.00          0  0.9984  0.0016\n",
      "39    0.115       0              0           0.4                            0.0268      0.26          0  0.9919  0.0081\n",
      "40    0.285       0              1           0.2                            0.0958      0.20          0  0.9869  0.0131\n",
      "41    0.320       0              0           0.8                            0.0000      0.27          0  0.9938  0.0062\n",
      "42    0.295       0              0           0.8                            0.0222      0.00          0  0.9983  0.0017\n",
      "43    0.270       0              0           1.0                            0.0412      0.04          0  0.9979  0.0021\n",
      "44    0.290       0              1           0.2                            0.1528      0.20          0  0.9792  0.0208\n",
      "45    0.280       0              0           0.6                            0.0000      0.00          0  0.9984  0.0016\n",
      "46    0.275       0              0           0.8                            0.2634      0.83          1  0.4960  0.5040\n",
      "47    0.225       1              0           0.4                            0.2502      0.00          0  0.9887  0.0113\n",
      "48    0.145       0              1           0.4                            0.0025      0.78          0  0.9018  0.0982\n",
      "49    0.340       1              0           0.4                            0.0000      0.04          0  0.9980  0.0020\n",
      "50    0.270       1              0           0.8                            0.0000      0.81          1  0.9175  0.0825\n",
      "51    0.275       1              0           0.4                            0.1303      0.00          0  0.9955  0.0045\n",
      "52    0.315       0              1           0.4                            0.0000      0.00          0  0.9981  0.0019\n",
      "53    0.255       0              0           0.8                            0.0000      0.03          0  0.9984  0.0016\n",
      "54    0.125       0              0           1.0                            0.1983      0.39          0  0.9576  0.0424\n",
      "55    0.135       1              0           0.4                            0.0000      0.10          0  0.9976  0.0024\n",
      "56    0.295       1              1           1.0                            0.0000      0.00          0  0.9990  0.0010\n",
      "57    0.105       0              0           1.0                            0.0000      0.32          0  0.9940  0.0060\n",
      "58    0.315       1              0           0.6                            0.1903      0.37          0  0.9547  0.0453\n",
      "59    0.200       0              0           1.0                            0.0105      0.21          0  0.9961  0.0039\n",
      "60    0.160       0              1           0.4                            0.1038      0.00          0  0.9962  0.0038\n",
      "61    0.160       0              0           0.2                            0.0000      0.11          0  0.9965  0.0035\n",
      "62    0.155       0              0           0.8                            0.0000      0.40          0  0.9892  0.0108\n",
      "63    0.140       0              0           0.6                            0.0000      0.12          0  0.9972  0.0028\n",
      "64    0.100       0              1           1.0                            0.0334      0.00          0  0.9986  0.0014\n",
      "65    0.110       1              0           0.2                            0.0072      0.00          0  0.9983  0.0017\n",
      "66    0.215       1              0           0.2                            0.0326      0.00          0  0.9978  0.0022\n",
      "67    0.215       1              0           1.0                            0.0000      0.30          0  0.9951  0.0049\n",
      "68    0.185       1              1           1.0                            0.1091      0.00          0  0.9977  0.0023\n",
      "69    0.210       1              0           0.8                            0.0747      0.15          0  0.9954  0.0046\n",
      "70    0.330       0              0           0.4                            0.2251      0.00          1  0.9881  0.0119\n",
      "71    0.160       0              0           0.8                            0.0000      0.00          0  0.9987  0.0013\n",
      "72    0.335       1              1           0.6                            0.0305      0.13          0  0.9964  0.0036\n",
      "73    0.330       1              0           1.0                            0.0000      0.00          0  0.9989  0.0011\n",
      "74    0.100       1              0           0.8                            0.0097      0.10          0  0.9981  0.0019\n",
      "75    0.265       0              0           0.8                            0.0000      0.00          0  0.9986  0.0014\n",
      "76    0.190       0              1           0.2                            0.0000      0.09          0  0.9969  0.0031\n",
      "77    0.180       0              0           1.0                            0.0000      0.64          0  0.9660  0.0340\n",
      "78    0.135       1              0           0.8                            0.2197      0.40          0  0.9490  0.0510\n",
      "79    0.195       1              0           0.2                            0.0004      0.00          0  0.9983  0.0017\n",
      "80    0.205       0              1           0.4                            0.0000      0.15          0  0.9962  0.0038\n",
      "81    0.305       0              0           0.2                            0.0433      0.41          0  0.9730  0.0270\n",
      "82    0.240       0              0           1.0                            0.0000      0.16          0  0.9972  0.0028\n",
      "83    0.180       1              0           1.0                            0.0014      0.03          0  0.9989  0.0011\n",
      "84    0.140       1              1           0.6                            0.0000      0.11          0  0.9979  0.0021\n",
      "85    0.265       1              0           1.0                            0.0000      0.00          0  0.9990  0.0010\n",
      "86    0.305       0              0           1.0                            0.0000      0.22          0  0.9959  0.0041\n",
      "87    0.135       0              0           1.0                            0.0000      0.10          0  0.9981  0.0019\n",
      "88    0.190       1              1           0.6                            0.0998      0.04          0  0.9966  0.0034\n",
      "89    0.160       0              0           0.4                            0.0000      0.53          0  0.9718  0.0282\n",
      "90    0.270       0              0           1.0                            0.0000      0.11          0  0.9978  0.0022\n",
      "91    0.205       1              0           0.4                            0.0000      0.00          0  0.9985  0.0015\n",
      "92    0.350       1              1           0.2                            0.0100      0.00          0  0.9980  0.0020\n",
      "93    0.115       1              0           0.4                            0.1161      0.00          0  0.9965  0.0035\n",
      "94    0.325       0              0           0.8                            0.1284      0.22          0  0.9867  0.0133\n",
      "95    0.190       1              0           0.8                            0.0000      0.03          0  0.9987  0.0013\n",
      "96    0.250       0              1           0.4                            0.0181      0.24          0  0.9926  0.0074\n",
      "97    0.285       0              0           0.2                            0.0000      0.07          0  0.9969  0.0031\n",
      "98    0.230       0              0           0.8                            0.0000      0.00          0  0.9986  0.0014\n",
      "99    0.140       0              0           0.8                            0.0004      0.30          0  0.9937  0.0063\n",
      "...     ...     ...            ...           ...                               ...       ...        ...     ...     ...\n",
      "9900  0.130       1              1           0.4                            0.0000      0.18          0  0.9965  0.0035\n",
      "9901  0.150       0              1           0.4                            0.0000      0.04          0  0.9980  0.0020\n",
      "9902  0.150       1              1           0.8                            0.0000      0.14          0  0.9978  0.0022\n",
      "9903  0.180       1              1           1.0                            0.0051      0.14          0  0.9979  0.0021\n",
      "9904  0.120       1              1           0.8                            0.0431      0.01          0  0.9985  0.0015\n",
      "9905  0.115       0              0           0.6                            0.0763      0.27          0  0.9888  0.0112\n",
      "9906  0.315       1              1           0.4                            0.0293      0.67          0  0.9331  0.0669\n",
      "9907  0.160       1              0           0.6                            0.1809      0.00          0  0.9946  0.0054\n",
      "9908  0.225       0              0           0.8                            0.0605      0.00          0  0.9978  0.0022\n",
      "9909  0.175       0              1           0.2                            0.0171      0.73          0  0.9009  0.0991\n",
      "9910  0.350       1              0           0.6                            0.0000      0.24          0  0.9948  0.0052\n",
      "9911  0.115       1              0           0.2                            0.0420      0.04          0  0.9973  0.0027\n",
      "9912  0.110       0              0           1.0                            0.0000      0.27          0  0.9954  0.0046\n",
      "9913  0.185       1              0           0.2                            0.0002      0.00          0  0.9983  0.0017\n",
      "9914  0.125       1              0           0.2                            0.0000      0.00          0  0.9984  0.0016\n",
      "9915  0.290       0              1           0.2                            0.0326      0.01          0  0.9971  0.0029\n",
      "9916  0.345       1              0           0.6                            0.0000      0.40          0  0.9880  0.0120\n",
      "9917  0.125       0              0           1.0                            0.0059      0.32          0  0.9936  0.0064\n",
      "9918  0.125       1              0           0.6                            0.0025      0.17          0  0.9969  0.0031\n",
      "9919  0.230       0              0           0.2                            0.0208      0.35          0  0.9844  0.0156\n",
      "9920  0.195       1              0           0.4                            0.0328      0.02          0  0.9979  0.0021\n",
      "9921  0.115       0              0           0.8                            0.0000      0.00          0  0.9988  0.0012\n",
      "9922  0.325       0              0           0.4                            0.0000      0.00          0  0.9981  0.0019\n",
      "9923  0.315       1              0           1.0                            0.0000      0.20          0  0.9969  0.0031\n",
      "9924  0.215       1              1           0.4                            0.0442      0.85          1  0.8360  0.1640\n",
      "9925  0.110       0              0           0.4                            0.0008      0.00          0  0.9984  0.0016\n",
      "9926  0.200       0              0           1.0                            0.0065      0.00          0  0.9988  0.0012\n",
      "9927  0.215       1              1           0.6                            0.2710      0.60          1  0.7796  0.2204\n",
      "9928  0.110       1              1           1.0                            0.0000      0.08          0  0.9986  0.0014\n",
      "9929  0.210       0              0           0.2                            0.0979      0.34          0  0.9731  0.0269\n",
      "9930  0.125       1              0           0.4                            0.0000      0.76          0  0.9253  0.0747\n",
      "9931  0.240       1              1           0.6                            0.0000      0.37          0  0.9907  0.0093\n",
      "9932  0.110       1              0           0.8                            0.1185      0.69          0  0.9015  0.0985\n",
      "9933  0.290       0              1           1.0                            0.2586      0.65          0  0.7563  0.2437\n",
      "9934  0.325       1              1           1.0                            0.0089      0.04          0  0.9986  0.0014\n",
      "9935  0.220       0              1           0.6                            0.1164      0.08          0  0.9940  0.0060\n",
      "9936  0.200       0              0           0.8                            0.0424      0.03          0  0.9978  0.0022\n",
      "9937  0.335       1              0           0.4                            0.0000      0.56          0  0.9684  0.0316\n",
      "9938  0.130       0              0           0.4                            0.0051      0.87          0  0.8462  0.1538\n",
      "9939  0.100       0              1           0.6                            0.0372      0.10          0  0.9968  0.0032\n",
      "9940  0.225       0              0           0.2                            0.1164      0.30          0  0.9745  0.0255\n",
      "9941  0.305       1              0           0.4                            0.0007      0.56          0  0.9689  0.0311\n",
      "9942  0.260       1              0           0.6                            0.0000      0.24          0  0.9952  0.0048\n",
      "9943  0.165       1              0           0.6                            0.0000      0.75          0  0.9355  0.0645\n",
      "9944  0.210       1              0           0.4                            0.0019      0.00          0  0.9985  0.0015\n",
      "9945  0.285       0              0           0.2                            0.0204      0.39          0  0.9800  0.0200\n",
      "9946  0.175       0              1           0.2                            0.1268      0.25          0  0.9799  0.0201\n",
      "9947  0.305       1              0           0.4                            0.2740      0.49          0  0.8318  0.1682\n",
      "9948  0.215       0              0           0.6                            0.0000      0.80          0  0.8994  0.1006\n",
      "9949  0.340       0              1           0.4                            0.2188      0.07          0  0.9839  0.0161\n",
      "9950  0.195       0              0           0.6                            0.0393      0.10          0  0.9964  0.0036\n",
      "9951  0.120       1              0           0.4                            0.0000      0.35          0  0.9911  0.0089\n",
      "9952  0.260       1              0           1.0                            0.0000      0.08          0  0.9984  0.0016\n",
      "9953  0.305       1              0           0.8                            0.0013      0.54          0  0.9784  0.0216\n",
      "9954  0.120       1              1           1.0                            0.0489      0.11          0  0.9976  0.0024\n",
      "9955  0.180       1              0           0.4                            0.0007      0.00          0  0.9985  0.0015\n",
      "9956  0.220       1              0           0.4                            0.0328      0.00          0  0.9981  0.0019\n",
      "9957  0.175       0              0           1.0                            0.0000      0.72          0  0.9489  0.0511\n",
      "9958  0.275       1              0           0.4                            0.0000      0.00          0  0.9984  0.0016\n",
      "9959  0.100       0              0           0.6                            0.2149      0.20          0  0.9770  0.0230\n",
      "9960  0.120       1              1           0.4                            0.0000      0.21          0  0.9959  0.0041\n",
      "9961  0.295       0              0           1.0                            0.2145      0.02          0  0.9921  0.0079\n",
      "9962  0.135       1              0           1.0                            0.2383      0.00          0  0.9936  0.0064\n",
      "9963  0.290       0              0           0.4                            0.0000      0.28          0  0.9917  0.0083\n",
      "9964  0.225       0              0           1.0                            0.0000      0.31          0  0.9938  0.0062\n",
      "9965  0.105       1              1           0.2                            0.0000      0.12          0  0.9971  0.0029\n",
      "9966  0.190       1              0           0.2                            0.0000      0.73          0  0.9235  0.0765\n",
      "9967  0.215       0              0           1.0                            0.0111      0.00          0  0.9987  0.0013\n",
      "9968  0.225       1              0           0.4                            0.0072      0.03          0  0.9981  0.0019\n",
      "9969  0.220       1              0           0.6                            0.0062      0.11          0  0.9975  0.0025\n",
      "9970  0.260       1              0           0.2                            0.0000      0.36          0  0.9881  0.0119\n",
      "9971  0.275       0              1           1.0                            0.1248      0.30          0  0.9837  0.0163\n",
      "9972  0.160       0              0           1.0                            0.0058      0.29          0  0.9944  0.0056\n",
      "9973  0.245       1              0           1.0                            0.0014      0.34          0  0.9937  0.0063\n",
      "9974  0.260       1              0           0.8                            0.0525      0.00          0  0.9982  0.0018\n",
      "9975  0.295       0              0           0.6                            0.0000      0.00          0  0.9984  0.0016\n",
      "9976  0.145       1              0           0.8                            0.0401      0.00          0  0.9985  0.0015\n",
      "9977  0.180       0              0           0.8                            0.0014      0.00          0  0.9987  0.0013\n",
      "9978  0.310       1              0           0.4                            0.0857      0.00          0  0.9968  0.0032\n",
      "9979  0.260       1              0           1.0                            0.0814      0.10          0  0.9966  0.0034\n",
      "9980  0.285       1              0           0.8                            0.0195      0.17          0  0.9965  0.0035\n",
      "9981  0.275       1              0           0.6                            0.0000      0.30          0  0.9933  0.0067\n",
      "9982  0.245       1              0           0.4                            0.0000      0.09          0  0.9975  0.0025\n",
      "9983  0.255       1              0           0.8                            0.0000      0.10          0  0.9980  0.0020\n",
      "9984  0.180       0              1           0.4                            0.0000      0.13          0  0.9966  0.0034\n",
      "9985  0.285       1              0           0.6                            0.0034      0.00          0  0.9986  0.0014\n",
      "9986  0.350       1              0           0.8                            0.0250      0.05          0  0.9980  0.0020\n",
      "9987  0.120       0              0           1.0                            0.0000      0.00          0  0.9989  0.0011\n",
      "9988  0.230       0              0           0.6                            0.0000      0.00          0  0.9984  0.0016\n",
      "9989  0.220       1              0           1.0                            0.0000      0.00          0  0.9990  0.0010\n",
      "9990  0.235       1              1           0.6                            0.0000      0.00          0  0.9987  0.0013\n",
      "9991  0.130       0              0           0.8                            0.0152      0.20          0  0.9958  0.0042\n",
      "9992  0.275       0              0           0.6                            0.0000      0.12          0  0.9969  0.0031\n",
      "9993  0.130       1              0           0.4                            0.2511      0.04          0  0.9870  0.0130\n",
      "9994  0.180       1              0           0.2                            0.0000      0.00          0  0.9983  0.0017\n",
      "9995  0.350       1              1           0.6                            0.1585      0.18          0  0.9868  0.0132\n",
      "9996  0.180       1              0           1.0                            0.0195      0.05          0  0.9985  0.0015\n",
      "9997  0.215       1              0           0.2                            0.0000      0.00          0  0.9983  0.0017\n",
      "9998  0.160       0              0           0.4                            0.0000      0.37          0  0.9878  0.0122\n",
      "9999  0.260       1              0           1.0                            0.0000      0.06          0  0.9986  0.0014\n",
      "\n",
      "[10000 rows x 9 columns]>\n"
     ]
    }
   ],
   "source": [
    "probs = model2.predict_proba(X)\n",
    "dfp = df.join(pd.DataFrame(probs))\n",
    "print(dfp.head)\n",
    "dfp.columns = ['age','gender','previousloans','productcount','average_amount_of_ca_transaction','txn_freq','loan_flag','no_loan', 'loan']\n",
    "#print(dfp.head)\n",
    "dfp.to_csv('log_probs_results.csv',encoding='utf-8', index=False)\n"
   ]
  },
  {
   "cell_type": "markdown",
   "metadata": {},
   "source": [
    "## run the predictor"
   ]
  },
  {
   "cell_type": "code",
   "execution_count": 48,
   "metadata": {
    "collapsed": false
   },
   "outputs": [
    {
     "name": "stdout",
     "output_type": "stream",
     "text": [
      "(2000, 7)\n",
      "<bound method DataFrame.head of          age  gender  previousloans  productcount  average_amount_of_ca_transaction  txn_freq  no_loan    loan\n",
      "0     0.7375       1              0           0.8                            0.0023      0.00   0.9983  0.0017\n",
      "1     0.3375       1              0           0.8                            0.0012      0.17   0.9969  0.0031\n",
      "2     0.7250       0              0           0.4                            0.0010      0.25   0.9900  0.0100\n",
      "3     0.5625       1              0           0.4                            0.0036      0.13   0.9960  0.0040\n",
      "4     0.2625       0              0           0.2                            0.0040      0.39   0.9827  0.0173\n",
      "5     0.4750       0              0           0.4                            0.0052      0.39   0.9821  0.0179\n",
      "6     0.5375       0              0           0.2                            0.0033      0.16   0.9937  0.0063\n",
      "7     0.5625       1              1           0.8                            0.0027      0.17   0.9963  0.0037\n",
      "8     0.5500       0              0           0.8                            0.0014      0.05   0.9977  0.0023\n",
      "9     0.6500       0              0           0.4                            0.0034      0.05   0.9967  0.0033\n",
      "10    0.6875       0              0           0.8                            0.0030      0.00   0.9980  0.0020\n",
      "11    0.4000       0              0           0.4                            0.0037      0.00   0.9979  0.0021\n",
      "12    0.6125       1              0           0.2                            0.0049      0.00   0.9976  0.0024\n",
      "13    0.6500       1              0           0.4                            0.0006      0.23   0.9929  0.0071\n",
      "14    0.7375       0              0           1.0                            0.0007      0.00   0.9982  0.0018\n",
      "15    0.3625       0              0           0.4                            0.0018      0.00   0.9980  0.0020\n",
      "16    0.4500       1              0           0.4                            0.0039      0.11   0.9967  0.0033\n",
      "17    0.7750       1              0           0.6                            0.0020      0.00   0.9980  0.0020\n",
      "18    0.6500       0              0           0.4                            0.0021      0.00   0.9975  0.0025\n",
      "19    0.7125       0              0           0.2                            0.0037      0.37   0.9782  0.0218\n",
      "20    0.6875       1              1           0.6                            0.0034      0.21   0.9943  0.0057\n",
      "21    0.6125       0              0           0.8                            0.0044      0.17   0.9953  0.0047\n",
      "22    0.6375       1              0           0.4                            0.0051      0.63   0.9412  0.0588\n",
      "23    0.4500       1              0           0.4                            0.0042      0.11   0.9967  0.0033\n",
      "24    0.7125       0              0           0.2                            0.0003      0.35   0.9809  0.0191\n",
      "25    0.8750       1              0           1.0                            0.0030      0.55   0.9690  0.0310\n",
      "26    0.3000       0              1           0.8                            0.0017      0.19   0.9961  0.0039\n",
      "27    0.5750       0              0           0.2                            0.0017      0.20   0.9921  0.0079\n",
      "28    0.5500       1              0           0.4                            0.0010      0.30   0.9904  0.0096\n",
      "29    0.5875       0              0           0.4                            0.0031      0.15   0.9946  0.0054\n",
      "30    0.3250       1              0           0.6                            0.0008      0.08   0.9978  0.0022\n",
      "31    0.6875       1              1           0.2                            0.0044      0.26   0.9901  0.0099\n",
      "32    0.3250       0              0           0.4                            0.0050      0.95   0.7552  0.2448\n",
      "33    0.4500       0              0           0.8                            0.0035      0.00   0.9983  0.0017\n",
      "34    0.8750       1              0           0.8                            0.0015      0.00   0.9981  0.0019\n",
      "35    0.4500       1              0           0.8                            0.0030      0.14   0.9971  0.0029\n",
      "36    0.5375       1              0           0.2                            0.0016      0.04   0.9973  0.0027\n",
      "37    0.4000       0              0           0.8                            0.0041      0.09   0.9974  0.0026\n",
      "38    0.6000       0              1           0.4                            0.0041      0.00   0.9976  0.0024\n",
      "39    0.6000       0              0           0.4                            0.0039      0.26   0.9902  0.0098\n",
      "40    0.4000       0              1           0.2                            0.0014      0.20   0.9933  0.0067\n",
      "41    0.3000       0              0           0.8                            0.0027      0.27   0.9938  0.0062\n",
      "42    0.2500       0              0           0.8                            0.0008      0.00   0.9986  0.0014\n",
      "43    0.3750       0              0           1.0                            0.0014      0.04   0.9983  0.0017\n",
      "44    0.7000       0              1           0.2                            0.0007      0.20   0.9916  0.0084\n",
      "45    0.3875       0              0           0.6                            0.0050      0.00   0.9982  0.0018\n",
      "46    0.6750       0              0           0.4                            0.0043      0.83   0.8179  0.1821\n",
      "47    0.8375       0              0           0.8                            0.0019      0.00   0.9978  0.0022\n",
      "48    0.6500       1              1           0.4                            0.0035      0.78   0.8804  0.1196\n",
      "49    0.4625       0              0           0.4                            0.0045      0.04   0.9972  0.0028\n",
      "50    0.6625       1              0           0.4                            0.0016      0.81   0.8604  0.1396\n",
      "51    0.9125       1              0           0.8                            0.0025      0.00   0.9980  0.0020\n",
      "52    0.9250       1              1           0.4                            0.0031      0.00   0.9974  0.0026\n",
      "53    0.9500       0              0           0.4                            0.0048      0.03   0.9962  0.0038\n",
      "54    0.7000       0              0           0.8                            0.0053      0.39   0.9837  0.0163\n",
      "55    0.5125       0              0           1.0                            0.0053      0.10   0.9974  0.0026\n",
      "56    0.6125       1              1           0.4                            0.0048      0.00   0.9979  0.0021\n",
      "57    0.7750       1              0           1.0                            0.0034      0.32   0.9914  0.0086\n",
      "58    0.9875       0              0           1.0                            0.0002      0.37   0.9847  0.0153\n",
      "59    0.8625       1              0           0.6                            0.0022      0.21   0.9933  0.0067\n",
      "60    0.7250       0              1           1.0                            0.0012      0.00   0.9983  0.0017\n",
      "61    0.3000       0              0           0.4                            0.0027      0.11   0.9965  0.0035\n",
      "62    0.8125       0              0           0.2                            0.0018      0.40   0.9729  0.0271\n",
      "63    0.6500       0              0           0.8                            0.0016      0.12   0.9964  0.0036\n",
      "64    0.5750       0              1           0.6                            0.0001      0.00   0.9980  0.0020\n",
      "65    0.6750       0              0           1.0                            0.0011      0.00   0.9983  0.0017\n",
      "66    0.2500       1              0           0.2                            0.0025      0.00   0.9982  0.0018\n",
      "67    0.7875       1              0           0.2                            0.0049      0.30   0.9864  0.0136\n",
      "68    0.7500       1              1           1.0                            0.0017      0.00   0.9985  0.0015\n",
      "69    0.4875       1              0           1.0                            0.0044      0.15   0.9972  0.0028\n",
      "70    0.4125       1              0           0.8                            0.0017      0.00   0.9987  0.0013\n",
      "71    0.6625       0              0           0.4                            0.0010      0.00   0.9975  0.0025\n",
      "72    0.2625       0              1           0.8                            0.0022      0.13   0.9972  0.0028\n",
      "73    0.8125       1              0           0.6                            0.0045      0.00   0.9979  0.0021\n",
      "74    0.5375       1              0           1.0                            0.0006      0.10   0.9978  0.0022\n",
      "75    0.5000       1              0           0.8                            0.0000      0.00   0.9986  0.0014\n",
      "76    0.7875       0              1           0.8                            0.0021      0.09   0.9966  0.0034\n",
      "77    0.5375       0              0           0.2                            0.0044      0.64   0.9233  0.0767\n",
      "78    0.2625       0              0           1.0                            0.0031      0.40   0.9895  0.0105\n",
      "79    0.3000       1              0           0.8                            0.0018      0.00   0.9988  0.0012\n",
      "80    0.3250       1              1           0.2                            0.0014      0.15   0.9959  0.0041\n",
      "81    0.9375       0              0           0.4                            0.0025      0.41   0.9723  0.0277\n",
      "82    0.2625       0              0           0.2                            0.0005      0.16   0.9950  0.0050\n",
      "83    0.4250       0              0           1.0                            0.0015      0.03   0.9984  0.0016\n",
      "84    0.3250       1              1           1.0                            0.0018      0.11   0.9981  0.0019\n",
      "85    0.4875       1              0           0.6                            0.0024      0.00   0.9984  0.0016\n",
      "86    0.2750       1              0           1.0                            0.0025      0.22   0.9966  0.0034\n",
      "87    0.7500       0              0           1.0                            0.0030      0.10   0.9969  0.0031\n",
      "88    0.8500       0              1           1.0                            0.0032      0.04   0.9976  0.0024\n",
      "89    0.5500       1              0           0.6                            0.0007      0.53   0.9720  0.0280\n",
      "90    0.2500       0              0           0.4                            0.0019      0.11   0.9967  0.0033\n",
      "91    0.8875       0              0           1.0                            0.0018      0.00   0.9980  0.0020\n",
      "92    0.5125       1              1           0.4                            0.0019      0.00   0.9981  0.0019\n",
      "93    0.7750       1              0           0.2                            0.0036      0.00   0.9973  0.0027\n",
      "94    0.7125       1              0           0.4                            0.0035      0.22   0.9928  0.0072\n",
      "95    0.2625       0              0           0.8                            0.0045      0.03   0.9983  0.0017\n",
      "96    0.8125       1              1           0.8                            0.0032      0.24   0.9935  0.0065\n",
      "97    0.9750       0              0           0.4                            0.0045      0.07   0.9952  0.0048\n",
      "98    0.8000       0              0           0.2                            0.0019      0.00   0.9968  0.0032\n",
      "99    0.5625       0              0           0.8                            0.0022      0.30   0.9911  0.0089\n",
      "...      ...     ...            ...           ...                               ...       ...      ...     ...\n",
      "1900  0.4375       0              1           0.8                            0.3101      0.24   0.9345  0.0655\n",
      "1901  0.4875       1              0           0.6                            0.0199      0.04   0.9977  0.0023\n",
      "1902  0.3250       0              0           0.4                            0.2358      0.27   0.9475  0.0525\n",
      "1903  0.3750       1              0           0.6                            0.3006      0.00   0.9835  0.0165\n",
      "1904  0.3000       1              1           0.8                            0.2769      0.00   0.9890  0.0110\n",
      "1905  0.4750       0              0           0.2                            0.2452      0.01   0.9812  0.0188\n",
      "1906  0.4125       1              0           0.6                            0.0976      0.40   0.9725  0.0275\n",
      "1907  0.4875       1              0           0.2                            0.1258      0.32   0.9687  0.0313\n",
      "1908  0.4125       1              1           1.0                            0.3016      0.17   0.9688  0.0312\n",
      "1909  0.2625       0              0           0.2                            0.0117      0.35   0.9851  0.0149\n",
      "1910  0.4375       1              0           0.2                            0.2959      0.02   0.9758  0.0242\n",
      "1911  0.4750       1              0           0.2                            0.0417      0.00   0.9971  0.0029\n",
      "1912  0.4875       0              1           0.6                            0.2083      0.00   0.9900  0.0100\n",
      "1913  0.3625       0              0           1.0                            0.0153      0.20   0.9957  0.0043\n",
      "1914  0.4375       1              0           0.6                            0.1884      0.85   0.5989  0.4011\n",
      "1915  0.8500       1              0           0.2                            0.2795      0.00   0.9738  0.0262\n",
      "1916  0.7500       0              1           0.4                            0.0440      0.00   0.9963  0.0037\n",
      "1917  0.3125       1              0           0.8                            0.1844      0.60   0.8812  0.1188\n",
      "1918  0.6875       1              0           0.4                            0.1489      0.08   0.9891  0.0109\n",
      "1919  0.6375       0              0           1.0                            0.3165      0.34   0.8839  0.1161\n",
      "1920  0.5875       1              1           0.4                            0.1814      0.76   0.6701  0.3299\n",
      "1921  0.3375       0              0           0.4                            0.0015      0.37   0.9859  0.0141\n",
      "1922  0.4625       1              0           1.0                            0.3157      0.69   0.6170  0.3830\n",
      "1923  0.8125       0              0           0.6                            0.0146      0.65   0.9177  0.0823\n",
      "1924  0.5500       1              1           1.0                            0.1747      0.04   0.9936  0.0064\n",
      "1925  0.4750       0              0           0.2                            0.0665      0.08   0.9935  0.0065\n",
      "1926  0.7250       0              0           0.4                            0.2907      0.03   0.9683  0.0317\n",
      "1927  0.4750       1              0           0.6                            0.0818      0.56   0.9420  0.0580\n",
      "1928  0.4375       1              1           0.8                            0.0089      0.87   0.8708  0.1292\n",
      "1929  0.3000       0              0           1.0                            0.1237      0.10   0.9942  0.0058\n",
      "1930  0.5375       0              0           1.0                            0.0495      0.30   0.9889  0.0111\n",
      "1931  0.3375       1              0           0.6                            0.1438      0.56   0.9161  0.0839\n",
      "1932  0.6250       1              1           0.8                            0.1212      0.24   0.9855  0.0145\n",
      "1933  0.3500       0              0           0.4                            0.1345      0.75   0.7552  0.2448\n",
      "1934  0.7875       1              0           0.4                            0.1905      0.00   0.9893  0.0107\n",
      "1935  0.3625       1              0           0.6                            0.2071      0.39   0.9409  0.0591\n",
      "1936  0.7750       1              1           0.2                            0.1490      0.25   0.9683  0.0317\n",
      "1937  0.6750       0              0           0.4                            0.0229      0.49   0.9597  0.0403\n",
      "1938  0.7125       1              0           0.6                            0.2076      0.80   0.5742  0.4258\n",
      "1939  0.8250       0              0           0.6                            0.0022      0.07   0.9963  0.0037\n",
      "1940  0.9000       0              1           0.4                            0.0653      0.10   0.9915  0.0085\n",
      "1941  0.3625       1              0           0.2                            0.1107      0.35   0.9705  0.0295\n",
      "1942  0.3625       0              0           0.2                            0.0303      0.08   0.9955  0.0045\n",
      "1943  0.9750       0              0           0.4                            0.1070      0.54   0.8796  0.1204\n",
      "1944  0.7625       0              1           0.6                            0.2737      0.11   0.9630  0.0370\n",
      "1945  0.9625       1              0           0.4                            0.1155      0.00   0.9933  0.0067\n",
      "1946  0.3500       1              0           0.6                            0.1335      0.00   0.9958  0.0042\n",
      "1947  0.8750       1              0           0.4                            0.2636      0.72   0.5027  0.4973\n",
      "1948  0.8125       1              1           1.0                            0.2501      0.00   0.9885  0.0115\n",
      "1949  0.6125       0              0           0.8                            0.2527      0.20   0.9600  0.0400\n",
      "1950  0.6375       0              0           1.0                            0.2860      0.21   0.9513  0.0487\n",
      "1951  0.7500       1              0           0.4                            0.0718      0.02   0.9955  0.0045\n",
      "1952  0.5375       0              1           0.4                            0.2182      0.00   0.9871  0.0129\n",
      "1953  0.9375       0              0           1.0                            0.1256      0.28   0.9751  0.0249\n",
      "1954  0.6875       0              0           0.4                            0.2057      0.31   0.9335  0.0665\n",
      "1955  0.8750       1              0           0.6                            0.2416      0.12   0.9717  0.0283\n",
      "1956  0.8250       1              1           0.4                            0.2248      0.73   0.5825  0.4175\n",
      "1957  0.3500       1              0           1.0                            0.2898      0.00   0.9886  0.0114\n",
      "1958  0.8125       1              0           1.0                            0.1741      0.03   0.9925  0.0075\n",
      "1959  0.5250       1              0           0.4                            0.1247      0.11   0.9907  0.0093\n",
      "1960  0.2750       1              1           1.0                            0.2293      0.36   0.9574  0.0426\n",
      "1961  0.6625       0              0           0.2                            0.2862      0.30   0.8727  0.1273\n",
      "1962  0.3500       1              0           0.2                            0.2199      0.29   0.9496  0.0504\n",
      "1963  0.4625       0              0           1.0                            0.1075      0.34   0.9794  0.0206\n",
      "1964  0.8625       1              1           0.4                            0.1456      0.00   0.9922  0.0078\n",
      "1965  0.4750       0              0           0.6                            0.3071      0.00   0.9777  0.0223\n",
      "1966  0.7250       1              0           0.2                            0.0834      0.00   0.9951  0.0049\n",
      "1967  0.7875       0              0           1.0                            0.1470      0.00   0.9940  0.0060\n",
      "1968  0.8375       0              1           1.0                            0.0857      0.00   0.9963  0.0037\n",
      "1969  0.6000       1              0           1.0                            0.0065      0.10   0.9976  0.0024\n",
      "1970  0.8000       1              0           0.8                            0.1247      0.17   0.9880  0.0120\n",
      "1971  0.3125       0              0           0.6                            0.1603      0.30   0.9704  0.0296\n",
      "1972  0.5750       1              1           0.8                            0.2779      0.09   0.9779  0.0221\n",
      "1973  0.4750       1              0           0.8                            0.0752      0.10   0.9957  0.0043\n",
      "1974  0.4750       1              0           0.4                            0.1208      0.13   0.9904  0.0096\n",
      "1975  0.8125       0              0           1.0                            0.1926      0.00   0.9911  0.0089\n",
      "1976  0.2625       0              1           0.8                            0.0201      0.05   0.9979  0.0021\n",
      "1977  0.9500       1              0           0.6                            0.2465      0.00   0.9834  0.0166\n",
      "1978  0.9250       1              0           0.4                            0.0030      0.00   0.9974  0.0026\n",
      "1979  0.3750       0              0           0.8                            0.0680      0.00   0.9974  0.0026\n",
      "1980  0.3000       1              1           0.4                            0.0935      0.00   0.9967  0.0033\n",
      "1981  0.3375       0              0           0.6                            0.1467      0.20   0.9840  0.0160\n",
      "1982  0.4500       1              0           0.8                            0.1723      0.12   0.9897  0.0103\n",
      "1983  0.3375       1              0           1.0                            0.2430      0.04   0.9904  0.0096\n",
      "1984  0.2750       1              1           0.6                            0.0832      0.00   0.9974  0.0026\n",
      "1985  0.2625       1              0           1.0                            0.0069      0.18   0.9972  0.0028\n",
      "1986  0.2750       1              0           0.6                            0.1233      0.05   0.9952  0.0048\n",
      "1987  0.4500       1              0           0.8                            0.1214      0.00   0.9964  0.0036\n",
      "1988  0.2875       0              1           0.6                            0.1797      0.37   0.9526  0.0474\n",
      "1989  0.3625       1              0           0.4                            0.1022      0.06   0.9948  0.0052\n",
      "1990  0.3125       1              0           0.2                            0.1865      0.00   0.9917  0.0083\n",
      "1991  0.4250       0              0           0.6                            0.2386      0.16   0.9711  0.0289\n",
      "1992  0.4000       0              1           1.0                            0.2336      0.00   0.9912  0.0088\n",
      "1993  0.4125       1              0           0.2                            0.0773      0.74   0.8372  0.1628\n",
      "1994  0.4375       1              0           0.4                            0.1721      0.31   0.9639  0.0361\n",
      "1995  0.4750       0              0           1.0                            0.1719      0.00   0.9942  0.0058\n",
      "1996  0.3875       0              1           0.6                            0.2153      0.18   0.9747  0.0253\n",
      "1997  0.4125       1              0           0.2                            0.0464      0.00   0.9971  0.0029\n",
      "1998  0.4625       1              0           0.4                            0.0903      0.43   0.9640  0.0360\n",
      "1999  0.3000       1              0           0.8                            0.1450      0.00   0.9961  0.0039\n",
      "\n",
      "[2000 rows x 8 columns]>\n"
     ]
    }
   ],
   "source": [
    "raw = getcsv(pname,Idirname,textfieldname)\n",
    "dfx = raw[['age','gender','previousloans','productcount','average_amount_of_ca_transaction','txn_freq']]\n",
    "features = ['age','gender','previousloans','productcount','average_amount_of_ca_transaction','txn_freq']\n",
    "\n",
    "\n",
    "fld ='age'\n",
    "dfx = outliers(dfx,10,fld)\n",
    "dfx.age= normalise(dfx.age.values)\n",
    "dfx.productcount = normalise(dfx.productcount.values)\n",
    "dfx.average_amount_of_ca_transaction = normalise(dfx.average_amount_of_ca_transaction.values)\n",
    "dfx.txn_freq = normalise(dfx.txn_freq.values)\n",
    "\n",
    "X = dfx\n",
    "#print(dfp.head)\n",
    "#y = df[\"loan_flag\"]\n",
    "#X = train_cols\n",
    "probs = model2.predict_proba(X)\n",
    "dfx = dfx.join(pd.DataFrame(probs))\n",
    "\n",
    "dfx.columns = ['age','gender','previousloans','productcount','average_amount_of_ca_transaction','txn_freq','no_loan', 'loan']\n",
    "#print(dfp.head)\n",
    "dfx.to_csv('test_probs_results.csv',encoding='utf-8', index=False)\n",
    "print(dfx.head)"
   ]
  },
  {
   "cell_type": "code",
   "execution_count": 56,
   "metadata": {
    "collapsed": false
   },
   "outputs": [
    {
     "data": {
      "text/plain": [
       "<matplotlib.legend.Legend at 0x21399748>"
      ]
     },
     "execution_count": 56,
     "metadata": {},
     "output_type": "execute_result"
    },
    {
     "data": {
      "image/png": "[encoded data removed]",
      "text/plain": [
       "<matplotlib.figure.Figure at 0x1f396be0>"
      ]
     },
     "metadata": {},
     "output_type": "display_data"
    }
   ],
   "source": [
    "sns.distplot(dfp['loan'],color = \"blue\", label = \"sample\")\n",
    "sns.distplot(dfx['loan'],color = \"green\", label = \"test\")\n",
    "plt.legend()"
   ]
  },
  {
   "cell_type": "code",
   "execution_count": 94,
   "metadata": {
    "collapsed": false
   },
   "outputs": [
    {
     "name": "stdout",
     "output_type": "stream",
     "text": [
      "(2000, 7)\n",
      "[ 0.99921677  0.99808615  0.99534956 ...,  0.99832322  0.97964488\n",
      "  0.99752848]\n",
      " (0.998, 0.999]\n",
      " (0.998, 0.999]\n",
      " (0.992, 0.996]\n",
      " (0.996, 0.998]\n",
      " (0.979, 0.992]\n",
      " (0.979, 0.992]\n",
      " (0.996, 0.998]\n",
      " (0.998, 0.999]\n",
      " (0.998, 0.999]\n",
      " (0.998, 0.999]\n",
      " (0.998, 0.999]\n",
      " (0.998, 0.999]\n",
      " (0.998, 0.999]\n",
      "...\n",
      " (0.996, 0.998]\n",
      " [0.238, 0.979]\n",
      " (0.996, 0.998]\n",
      " (0.992, 0.996]\n",
      " (0.979, 0.992]\n",
      " (0.992, 0.996]\n",
      " [0.238, 0.979]\n",
      " [0.238, 0.979]\n",
      " (0.996, 0.998]\n",
      " (0.979, 0.992]\n",
      " (0.998, 0.999]\n",
      " (0.979, 0.992]\n",
      " (0.996, 0.998]\n",
      "Levels (5): Index(['[0.238, 0.979]', '(0.979, 0.992]', '(0.992, 0.996]',\n",
      "                   '(0.996, 0.998]', '(0.998, 0.999]'], dtype=object)\n",
      "Length: 2000\n"
     ]
    },
    {
     "ename": "AttributeError",
     "evalue": "'Categorical' object has no attribute 'to_csv'",
     "output_type": "error",
     "traceback": [
      "\u001b[1;31m---------------------------------------------------------------------------\u001b[0m\n\u001b[1;31mAttributeError\u001b[0m                            Traceback (most recent call last)",
      "\u001b[1;32m<ipython-input-94-76a6ccac764b>\u001b[0m in \u001b[0;36m<module>\u001b[1;34m()\u001b[0m\n\u001b[0;32m     32\u001b[0m \u001b[0mt\u001b[0m \u001b[1;33m=\u001b[0m \u001b[0mpd\u001b[0m\u001b[1;33m.\u001b[0m\u001b[0mDataFrame\u001b[0m\u001b[1;33m(\u001b[0m\u001b[0mdft\u001b[0m\u001b[1;33m)\u001b[0m\u001b[1;33m.\u001b[0m\u001b[0mjoin\u001b[0m\u001b[1;33m(\u001b[0m\u001b[0mpd\u001b[0m\u001b[1;33m.\u001b[0m\u001b[0mDataFrame\u001b[0m\u001b[1;33m(\u001b[0m\u001b[0ml\u001b[0m\u001b[1;33m)\u001b[0m\u001b[1;33m)\u001b[0m\u001b[1;33m\u001b[0m\u001b[0m\n\u001b[0;32m     33\u001b[0m \u001b[1;31m#t = t.join(quintile)\u001b[0m\u001b[1;33m\u001b[0m\u001b[1;33m\u001b[0m\u001b[0m\n\u001b[1;32m---> 34\u001b[1;33m \u001b[0mquintile\u001b[0m\u001b[1;33m.\u001b[0m\u001b[0mto_csv\u001b[0m\u001b[1;33m(\u001b[0m\u001b[1;34m'quintile_segment.csv'\u001b[0m\u001b[1;33m,\u001b[0m\u001b[0mencoding\u001b[0m\u001b[1;33m=\u001b[0m\u001b[1;34m'utf-8'\u001b[0m\u001b[1;33m,\u001b[0m \u001b[0mindex\u001b[0m\u001b[1;33m=\u001b[0m\u001b[0mFalse\u001b[0m\u001b[1;33m)\u001b[0m\u001b[1;33m\u001b[0m\u001b[0m\n\u001b[0m\u001b[0;32m     35\u001b[0m \u001b[0mt\u001b[0m\u001b[1;33m.\u001b[0m\u001b[0mto_csv\u001b[0m\u001b[1;33m(\u001b[0m\u001b[1;34m'quintile_results.csv'\u001b[0m\u001b[1;33m,\u001b[0m\u001b[0mencoding\u001b[0m\u001b[1;33m=\u001b[0m\u001b[1;34m'utf-8'\u001b[0m\u001b[1;33m,\u001b[0m \u001b[0mindex\u001b[0m\u001b[1;33m=\u001b[0m\u001b[0mFalse\u001b[0m\u001b[1;33m)\u001b[0m\u001b[1;33m\u001b[0m\u001b[0m\n",
      "\u001b[1;31mAttributeError\u001b[0m: 'Categorical' object has no attribute 'to_csv'"
     ]
    }
   ],
   "source": [
    "#pd.DataFrame(probs).to_csv('log_probs_results_2.csv',encoding='utf-8', index=False)\n",
    "l = np.hstack((probs[:,:1]))\n",
    "#l = np.hstack((probs))\n",
    "\n",
    "#l = probs.flatten\n",
    "print(l)\n",
    "quintile = pd.qcut((l), 5)\n",
    "                   #, labels=[\"`Very High Likelihood\",\"High Likelihood\",\"Medium Likelihood\",\"Low Likelihood\",\"Very Low Likelihood\"])\n",
    "\n",
    "print(quintile)\n",
    "\n",
    "#segement = quintile\n",
    "#print(segement)\n",
    "#t = pd.DataFrame(t)\n",
    "t = pd.DataFrame(dft).join(pd.DataFrame(l))\n",
    "#t = t.join(quintile)\n",
    "quintile.to_csv('quintile_segment.csv',encoding='utf-8', index=False)\n",
    "t.to_csv('quintile_results.csv',encoding='utf-8', index=False)"
   ]
  },
  {
   "cell_type": "code",
   "execution_count": 317,
   "metadata": {
    "collapsed": false
   },
   "outputs": [],
   "source": [
    "e = clf.predict_proba(X)\n",
    "g = pd.DataFrame(e[:,0])\n",
    "\n",
    "g.to_csv('percentile_results2.csv',encoding='utf-8', index=False)"
   ]
  },
  {
   "cell_type": "code",
   "execution_count": 276,
   "metadata": {
    "collapsed": false
   },
   "outputs": [
    {
     "name": "stdout",
     "output_type": "stream",
     "text": [
      "           0       1\n",
      "0     0.9989  0.0011\n",
      "1     0.9974  0.0026\n",
      "2     0.9929  0.0071\n",
      "3     0.9973  0.0027\n",
      "4     0.9842  0.0158\n",
      "5     0.9850  0.0150\n",
      "6     0.9953  0.0047\n",
      "7     0.9969  0.0031\n",
      "8     0.9980  0.0020\n",
      "9     0.9976  0.0024\n",
      "10    0.9985  0.0015\n",
      "11    0.9982  0.0018\n",
      "12    0.9985  0.0015\n",
      "13    0.9955  0.0045\n",
      "14    0.9986  0.0014\n",
      "15    0.9982  0.0018\n",
      "16    0.9976  0.0024\n",
      "17    0.9988  0.0012\n",
      "18    0.9982  0.0018\n",
      "19    0.9850  0.0150\n",
      "20    0.9958  0.0042\n",
      "21    0.9961  0.0039\n",
      "22    0.9609  0.0391\n",
      "23    0.9976  0.0024\n",
      "24    0.9869  0.0131\n",
      "25    0.9800  0.0200\n",
      "26    0.9954  0.0046\n",
      "27    0.9942  0.0058\n",
      "28    0.9935  0.0065\n",
      "29    0.9959  0.0041\n",
      "30    0.9982  0.0018\n",
      "31    0.9933  0.0067\n",
      "32    0.7641  0.2359\n",
      "33    0.9985  0.0015\n",
      "34    0.9989  0.0011\n",
      "35    0.9977  0.0023\n",
      "36    0.9982  0.0018\n",
      "37    0.9975  0.0025\n",
      "38    0.9979  0.0021\n",
      "39    0.9925  0.0075\n",
      "40    0.9936  0.0064\n",
      "41    0.9937  0.0063\n",
      "42    0.9986  0.0014\n",
      "43    0.9983  0.0017\n",
      "44    0.9934  0.0066\n",
      "45    0.9983  0.0017\n",
      "46    0.8567  0.1433\n",
      "47    0.9984  0.0016\n",
      "48    0.9077  0.0923\n",
      "49    0.9977  0.0023\n",
      "50    0.9049  0.0951\n",
      "51    0.9989  0.0011\n",
      "52    0.9985  0.0015\n",
      "53    0.9977  0.0023\n",
      "54    0.9871  0.0129\n",
      "55    0.9976  0.0024\n",
      "56    0.9985  0.0015\n",
      "57    0.9942  0.0058\n",
      "58    0.9895  0.0105\n",
      "59    0.9962  0.0038\n",
      "60    0.9984  0.0016\n",
      "61    0.9968  0.0032\n",
      "62    0.9825  0.0175\n",
      "63    0.9971  0.0029\n",
      "64    0.9982  0.0018\n",
      "65    0.9986  0.0014\n",
      "66    0.9986  0.0014\n",
      "67    0.9925  0.0075\n",
      "68    0.9989  0.0011\n",
      "69    0.9977  0.0023\n",
      "70    0.9989  0.0011\n",
      "71    0.9982  0.0018\n",
      "72    0.9967  0.0033\n",
      "73    0.9987  0.0013\n",
      "74    0.9983  0.0017\n",
      "75    0.9989  0.0011\n",
      "76    0.9972  0.0028\n",
      "77    0.9394  0.0606\n",
      "78    0.9884  0.0116\n",
      "79    0.9989  0.0011\n",
      "80    0.9965  0.0035\n",
      "81    0.9828  0.0172\n",
      "82    0.9955  0.0045\n",
      "83    0.9984  0.0016\n",
      "84    0.9980  0.0020\n",
      "85    0.9988  0.0012\n",
      "86    0.9968  0.0032\n",
      "87    0.9976  0.0024\n",
      "88    0.9980  0.0020\n",
      "89    0.9797  0.0203\n",
      "90    0.9968  0.0032\n",
      "91    0.9986  0.0014\n",
      "92    0.9986  0.0014\n",
      "93    0.9985  0.0015\n",
      "94    0.9956  0.0044\n",
      "95    0.9982  0.0018\n",
      "96    0.9954  0.0046\n",
      "97    0.9972  0.0028\n",
      "98    0.9980  0.0020\n",
      "99    0.9924  0.0076\n",
      "...      ...     ...\n",
      "1900  0.9325  0.0675\n",
      "1901  0.9983  0.0017\n",
      "1902  0.9528  0.0472\n",
      "1903  0.9874  0.0126\n",
      "1904  0.9894  0.0106\n",
      "1905  0.9856  0.0144\n",
      "1906  0.9786  0.0214\n",
      "1907  0.9789  0.0211\n",
      "1908  0.9707  0.0293\n",
      "1909  0.9864  0.0136\n",
      "1910  0.9838  0.0162\n",
      "1911  0.9981  0.0019\n",
      "1912  0.9905  0.0095\n",
      "1913  0.9956  0.0044\n",
      "1914  0.6588  0.3412\n",
      "1915  0.9866  0.0134\n",
      "1916  0.9971  0.0029\n",
      "1917  0.8954  0.1046\n",
      "1918  0.9934  0.0066\n",
      "1919  0.9017  0.0983\n",
      "1920  0.7266  0.2734\n",
      "1921  0.9871  0.0129\n",
      "1922  0.6641  0.3359\n",
      "1923  0.9401  0.0599\n",
      "1924  0.9945  0.0055\n",
      "1925  0.9949  0.0051\n",
      "1926  0.9785  0.0215\n",
      "1927  0.9559  0.0441\n",
      "1928  0.8768  0.1232\n",
      "1929  0.9939  0.0061\n",
      "1930  0.9899  0.0101\n",
      "1931  0.9306  0.0694\n",
      "1932  0.9884  0.0116\n",
      "1933  0.7716  0.2284\n",
      "1934  0.9940  0.0060\n",
      "1935  0.9528  0.0472\n",
      "1936  0.9798  0.0202\n",
      "1937  0.9701  0.0299\n",
      "1938  0.6774  0.3226\n",
      "1939  0.9975  0.0025\n",
      "1940  0.9940  0.0060\n",
      "1941  0.9784  0.0216\n",
      "1942  0.9963  0.0037\n",
      "1943  0.9241  0.0759\n",
      "1944  0.9705  0.0295\n",
      "1945  0.9966  0.0034\n",
      "1946  0.9967  0.0033\n",
      "1947  0.6495  0.3505\n",
      "1948  0.9917  0.0083\n",
      "1949  0.9676  0.0324\n",
      "1950  0.9594  0.0406\n",
      "1951  0.9974  0.0026\n",
      "1952  0.9887  0.0113\n",
      "1953  0.9826  0.0174\n",
      "1954  0.9520  0.0480\n",
      "1955  0.9842  0.0158\n",
      "1956  0.6823  0.3177\n",
      "1957  0.9904  0.0096\n",
      "1958  0.9952  0.0048\n",
      "1959  0.9938  0.0062\n",
      "1960  0.9555  0.0445\n",
      "1961  0.9097  0.0903\n",
      "1962  0.9632  0.0368\n",
      "1963  0.9803  0.0197\n",
      "1964  0.9952  0.0048\n",
      "1965  0.9815  0.0185\n",
      "1966  0.9972  0.0028\n",
      "1967  0.9955  0.0045\n",
      "1968  0.9969  0.0031\n",
      "1969  0.9982  0.0018\n",
      "1970  0.9926  0.0074\n",
      "1971  0.9718  0.0282\n",
      "1972  0.9822  0.0178\n",
      "1973  0.9967  0.0033\n",
      "1974  0.9933  0.0067\n",
      "1975  0.9935  0.0065\n",
      "1976  0.9975  0.0025\n",
      "1977  0.9913  0.0087\n",
      "1978  0.9986  0.0014\n",
      "1979  0.9975  0.0025\n",
      "1980  0.9971  0.0029\n",
      "1981  0.9850  0.0150\n",
      "1982  0.9920  0.0080\n",
      "1983  0.9918  0.0082\n",
      "1984  0.9975  0.0025\n",
      "1985  0.9974  0.0026\n",
      "1986  0.9960  0.0040\n",
      "1987  0.9972  0.0028\n",
      "1988  0.9476  0.0524\n",
      "1989  0.9961  0.0039\n",
      "1990  0.9940  0.0060\n",
      "1991  0.9748  0.0252\n",
      "1992  0.9904  0.0096\n",
      "1993  0.8770  0.1230\n",
      "1994  0.9739  0.0261\n",
      "1995  0.9947  0.0053\n",
      "1996  0.9740  0.0260\n",
      "1997  0.9980  0.0020\n",
      "1998  0.9740  0.0260\n",
      "1999  0.9967  0.0033\n",
      "\n",
      "[2000 rows x 2 columns]\n"
     ]
    }
   ],
   "source": [
    "s  = 0\n",
    "\n",
    "#t = [x[0] for x in ]\n",
    "\n",
    "print(pd.DataFrame(probs))\n"
   ]
  },
  {
   "cell_type": "code",
   "execution_count": 233,
   "metadata": {
    "collapsed": false
   },
   "outputs": [
    {
     "name": "stdout",
     "output_type": "stream",
     "text": [
      "Logistic Regression:\n",
      "0.983\n",
      "Gradient Boosting Classifier\n",
      "0.981\n",
      "Support vector machines:\n",
      "0.979\n",
      "Random forest:\n",
      "0.981\n",
      "K-nearest-neighbors:\n",
      "0.979\n"
     ]
    }
   ],
   "source": [
    "from sklearn.cross_validation import KFold\n",
    "\n",
    "def run_cv(X,y,clf_class,**kwargs):\n",
    "    # Construct a kfolds object\n",
    "    kf = KFold(len(y),n_folds=5,shuffle=True)\n",
    "    y_pred = y.copy()\n",
    "    \n",
    "    # Iterate through folds\n",
    "    for train_index, test_index in kf:\n",
    "        X_train, X_test = X[train_index], X[test_index]\n",
    "        y_train = y[train_index]\n",
    "        # Initialize a classifier with key word arguments\n",
    "        clf = clf_class(**kwargs)\n",
    "        clf.fit(X_train,y_train)\n",
    "        y_pred[test_index] = clf.predict(X_test)\n",
    "    return y_pred\n",
    "\n",
    "\n",
    "from sklearn.svm import SVC\n",
    "from sklearn.ensemble import RandomForestClassifier as RF\n",
    "from sklearn.neighbors import KNeighborsClassifier as KNN\n",
    "from sklearn.linear_model import LogisticRegression as LR\n",
    "from sklearn.ensemble import GradientBoostingClassifier as GBC\n",
    "from sklearn.metrics import average_precision_score\n",
    "\n",
    "\n",
    "def accuracy(y_true,y_pred):\n",
    "    # NumPy interprets True and False as 1. and 0.\n",
    "    return np.mean(y_true == y_pred)\n",
    "\n",
    "print \"Logistic Regression:\"\n",
    "print \"%.3f\" % accuracy(y, run_cv(X,y,LR))\n",
    "print \"Gradient Boosting Classifier\"\n",
    "print \"%.3f\" % accuracy(y, run_cv(X,y,GBC))\n",
    "print \"Support vector machines:\"\n",
    "print \"%.3f\" % accuracy(y, run_cv(X,y,SVC))\n",
    "print \"Random forest:\"\n",
    "print \"%.3f\" % accuracy(y, run_cv(X,y,RF))\n",
    "print \"K-nearest-neighbors:\"\n",
    "print \"%.3f\" % accuracy(y, run_cv(X,y,KNN))"
   ]
  },
  {
   "cell_type": "code",
   "execution_count": 235,
   "metadata": {
    "collapsed": false
   },
   "outputs": [
    {
     "name": "stdout",
     "output_type": "stream",
     "text": [
      "[[9744   45]\n",
      " [ 142   69]]\n"
     ]
    },
    {
     "data": {
      "image/png": "[encoded data removed]",
      "text/plain": [
       "<matplotlib.figure.Figure at 0x1fe6a9e8>"
      ]
     },
     "metadata": {},
     "output_type": "display_data"
    }
   ],
   "source": [
    "from sklearn.metrics import confusion_matrix\n",
    "def draw_confusion_matrices(confusion_matricies,class_names):\n",
    "    class_names = class_names.tolist()\n",
    "    for cm in confusion_matrices:\n",
    "        classifier, cm = cm[0], cm[1]\n",
    "        print(cm)\n",
    "        \n",
    "        fig = plt.figure()\n",
    "        ax = fig.add_subplot(111)\n",
    "        cax = ax.matshow(cm)\n",
    "        plt.title('Confusion matrix for %s' % classifier)\n",
    "        fig.colorbar(cax)\n",
    "        ax.set_xticklabels([''] + class_names)\n",
    "        ax.set_yticklabels([''] + class_names)\n",
    "        plt.xlabel('Predicted')\n",
    "        plt.ylabel('True')\n",
    "        plt.show()\n",
    "\n",
    "y = np.array(y)\n",
    "class_names = np.unique(y)\n",
    "\n",
    "confusion_matrices = [\n",
    "  \n",
    "    ( \"Random Forest\", confusion_matrix(y,run_cv(X,y,RF)) ),\n",
    "  \n",
    "]\n",
    "\n",
    "# Pyplot code not included to reduce clutter\n",
    "#from churn_display import draw_confusion_matrices\n",
    "\n",
    "draw_confusion_matrices(confusion_matrices,class_names)"
   ]
  },
  {
   "cell_type": "code",
   "execution_count": 236,
   "metadata": {
    "collapsed": false
   },
   "outputs": [
    {
     "name": "stdout",
     "output_type": "stream",
     "text": [
      "Support vector machines:\n"
     ]
    },
    {
     "data": {
      "image/png": "[encoded data removed]",
      "text/plain": [
       "<matplotlib.figure.Figure at 0x1beacb00>"
      ]
     },
     "metadata": {},
     "output_type": "display_data"
    },
    {
     "name": "stdout",
     "output_type": "stream",
     "text": [
      "Random forests:\n"
     ]
    },
    {
     "data": {
      "image/png": "[encoded data removed]",
      "text/plain": [
       "<matplotlib.figure.Figure at 0x1a386048>"
      ]
     },
     "metadata": {},
     "output_type": "display_data"
    },
    {
     "name": "stdout",
     "output_type": "stream",
     "text": [
      "K-nearest-neighbors:\n"
     ]
    },
    {
     "data": {
      "image/png": "[encoded data removed]",
      "text/plain": [
       "<matplotlib.figure.Figure at 0x203f8470>"
      ]
     },
     "metadata": {},
     "output_type": "display_data"
    },
    {
     "name": "stdout",
     "output_type": "stream",
     "text": [
      "Gradient Boosting Classifier:\n"
     ]
    },
    {
     "data": {
      "image/png": "[encoded data removed]",
      "text/plain": [
       "<matplotlib.figure.Figure at 0x1aef4198>"
      ]
     },
     "metadata": {},
     "output_type": "display_data"
    }
   ],
   "source": [
    "from sklearn.metrics import roc_curve, auc\n",
    "from scipy import interp\n",
    "\n",
    "def plot_roc(X, y, clf_class, **kwargs):\n",
    "    kf = KFold(len(y), n_folds=5, shuffle=True)\n",
    "    y_prob = np.zeros((len(y),2))\n",
    "    mean_tpr = 0.0\n",
    "    mean_fpr = np.linspace(0, 1, 100)\n",
    "    all_tpr = []\n",
    "    for i, (train_index, test_index) in enumerate(kf):\n",
    "        X_train, X_test = X[train_index], X[test_index]\n",
    "        y_train = y[train_index]\n",
    "        clf = clf_class(**kwargs)\n",
    "        clf.fit(X_train,y_train)\n",
    "        # Predict probabilities, not classes\n",
    "        y_prob[test_index] = clf.predict_proba(X_test)\n",
    "        fpr, tpr, thresholds = roc_curve(y[test_index], y_prob[test_index, 1])\n",
    "        mean_tpr += interp(mean_fpr, fpr, tpr)\n",
    "        mean_tpr[0] = 0.0\n",
    "        roc_auc = auc(fpr, tpr)\n",
    "        plt.plot(fpr, tpr, lw=1, label='ROC fold %d (area = %0.2f)' % (i, roc_auc))\n",
    "    mean_tpr /= len(kf)\n",
    "    mean_tpr[-1] = 1.0\n",
    "    mean_auc = auc(mean_fpr, mean_tpr)\n",
    "    plt.plot(mean_fpr, mean_tpr, 'k--',label='Mean ROC (area = %0.2f)' % mean_auc, lw=2)\n",
    "    \n",
    "    plt.plot([0, 1], [0, 1], '--', color=(0.6, 0.6, 0.6), label='Random')\n",
    "    plt.xlim([-0.05, 1.05])\n",
    "    plt.ylim([-0.05, 1.05])\n",
    "    plt.xlabel('False Positive Rate')\n",
    "    plt.ylabel('True Positive Rate')\n",
    "    plt.title('Receiver operating characteristic')\n",
    "    plt.legend(loc=\"lower right\")\n",
    "    plt.show()\n",
    "      \n",
    "\n",
    "print \"Support vector machines:\"\n",
    "plot_roc(X,y,SVC,probability=True)\n",
    "\n",
    "print \"Random forests:\"\n",
    "plot_roc(X,y,RF,n_estimators=18)\n",
    "\n",
    "print \"K-nearest-neighbors:\"\n",
    "plot_roc(X,y,KNN)\n",
    "\n",
    "print \"Gradient Boosting Classifier:\"\n",
    "plot_roc(X,y,GBC)"
   ]
  },
  {
   "cell_type": "code",
   "execution_count": 217,
   "metadata": {
    "collapsed": false
   },
   "outputs": [],
   "source": [
    "def run_prob_cv(X, y, clf_class, **kwargs):\n",
    "    kf = KFold(len(y), n_folds=5, shuffle=True)\n",
    "    y_prob = np.zeros((len(y),2))\n",
    "    for train_index, test_index in kf:\n",
    "        X_train, X_test = X[train_index], X[test_index]\n",
    "        y_train = y[train_index]\n",
    "        clf = clf_class(**kwargs)\n",
    "        clf.fit(X_train,y_train)\n",
    "        # Predict probabilities, not classes\n",
    "        y_prob[test_index] = clf.predict_proba(X_test)\n",
    "    return y_prob"
   ]
  },
  {
   "cell_type": "code",
   "execution_count": 259,
   "metadata": {
    "collapsed": false
   },
   "outputs": [
    {
     "data": {
      "text/html": [
       "<div style=\"max-height:1000px;max-width:1500px;overflow:auto;\">\n",
       "<table border=\"1\" class=\"dataframe\">\n",
       "  <thead>\n",
       "    <tr style=\"text-align: right;\">\n",
       "      <th></th>\n",
       "      <th>pred_prob</th>\n",
       "      <th>count</th>\n",
       "      <th>true_prob</th>\n",
       "    </tr>\n",
       "  </thead>\n",
       "  <tbody>\n",
       "    <tr>\n",
       "      <th>0</th>\n",
       "      <td> 0.0</td>\n",
       "      <td> 9480</td>\n",
       "      <td> 0.0059</td>\n",
       "    </tr>\n",
       "    <tr>\n",
       "      <th>1</th>\n",
       "      <td> 0.2</td>\n",
       "      <td>  257</td>\n",
       "      <td> 0.1790</td>\n",
       "    </tr>\n",
       "    <tr>\n",
       "      <th>2</th>\n",
       "      <td> 0.4</td>\n",
       "      <td>  112</td>\n",
       "      <td> 0.2946</td>\n",
       "    </tr>\n",
       "    <tr>\n",
       "      <th>3</th>\n",
       "      <td> 0.6</td>\n",
       "      <td>   76</td>\n",
       "      <td> 0.3684</td>\n",
       "    </tr>\n",
       "    <tr>\n",
       "      <th>4</th>\n",
       "      <td> 0.8</td>\n",
       "      <td>   47</td>\n",
       "      <td> 0.5532</td>\n",
       "    </tr>\n",
       "    <tr>\n",
       "      <th>5</th>\n",
       "      <td> 1.0</td>\n",
       "      <td>   23</td>\n",
       "      <td> 0.8696</td>\n",
       "    </tr>\n",
       "  </tbody>\n",
       "</table>\n",
       "</div>"
      ],
      "text/plain": [
       "   pred_prob  count  true_prob\n",
       "0        0.0   9480     0.0059\n",
       "1        0.2    257     0.1790\n",
       "2        0.4    112     0.2946\n",
       "3        0.6     76     0.3684\n",
       "4        0.8     47     0.5532\n",
       "5        1.0     23     0.8696"
      ]
     },
     "execution_count": 259,
     "metadata": {},
     "output_type": "execute_result"
    }
   ],
   "source": [
    "import warnings\n",
    "warnings.filterwarnings('ignore')\n",
    "\n",
    "# Use 5 estimators so predictions are all multiples of 0.2\n",
    "pred_prob = run_prob_cv(X, y, RF, n_estimators=5)\n",
    "pred_loan = pred_prob[:,1]\n",
    "is_loan = y == 1\n",
    "\n",
    "# Number of times a predicted probability is assigned to an observation\n",
    "counts = pd.value_counts(pred_loan)\n",
    "\n",
    "# calculate true probabilities\n",
    "true_prob = {}\n",
    "for prob in counts.index:\n",
    "    true_prob[prob] = np.mean(is_loan[pred_loan == prob])\n",
    "    true_prob = pd.Series(true_prob)\n",
    "\n",
    "#tabulate the results\n",
    "counts = pd.concat([counts,true_prob], axis=1).reset_index()\n",
    "counts.columns = ['pred_prob', 'count', 'true_prob']\n",
    "counts"
   ]
  },
  {
   "cell_type": "code",
   "execution_count": 260,
   "metadata": {
    "collapsed": false
   },
   "outputs": [],
   "source": [
    "t = pd.DataFrame(pred_loan)\n",
    "t = pd.DataFrame(df).join(pd.DataFrame(t))\n",
    "\n",
    "t.to_csv('known_results.csv',encoding='utf-8', index=False)"
   ]
  },
  {
   "cell_type": "markdown",
   "metadata": {},
   "source": [
    "## Run the model"
   ]
  },
  {
   "cell_type": "markdown",
   "metadata": {},
   "source": [
    "## k nearest neighbour to classify"
   ]
  },
  {
   "cell_type": "code",
   "execution_count": 63,
   "metadata": {
    "collapsed": false
   },
   "outputs": [
    {
     "name": "stdout",
     "output_type": "stream",
     "text": [
      "Neighbors: 1, Accuracy: 1.000000\n",
      "Neighbors: 2, Accuracy: 0.985011\n",
      "Neighbors: 3, Accuracy: 0.985153\n",
      "Neighbors: 4, Accuracy: 0.983440\n",
      "Neighbors: 5, Accuracy: 0.984154\n"
     ]
    },
    {
     "data": {
      "image/png": "[encoded data removed]",
      "text/plain": [
       "<matplotlib.figure.Figure at 0x1f0cf898>"
      ]
     },
     "metadata": {},
     "output_type": "display_data"
    }
   ],
   "source": [
    "test_idx = np.random.uniform(0, 1, len(df)) <= 0.3\n",
    "train = df[test_idx==True]\n",
    "test = df[test_idx==False]\n",
    "\n",
    "\n",
    "features = ['age','gender','previousloans','productcount','average_amount_of_ca_transaction','txn_freq']\n",
    "y = df[\"loan_flag\"]\n",
    "X = train_cols\n",
    "results = []\n",
    "for n in range(1, 6, 1):\n",
    "    clf = KNeighborsClassifier(n_neighbors=n)\n",
    "    clf.fit(X, y)\n",
    "    preds = clf.predict(test[features])\n",
    "    accuracy = np.where(preds==test['loan_flag'], 1, 0).sum() / float(len(test))\n",
    "    print \"Neighbors: %d, Accuracy: %3f\" % (n, accuracy)\n",
    "\n",
    "    results.append([n, accuracy])\n",
    "\n",
    "results = pd.DataFrame(results, columns=[\"n\", \"accuracy\"])\n",
    "\n",
    "pl.plot(results.n, results.accuracy)\n",
    "pl.title(\"Accuracy with Increasing K\")\n",
    "pl.show()"
   ]
  },
  {
   "cell_type": "markdown",
   "metadata": {},
   "source": [
    "## Kmeans"
   ]
  },
  {
   "cell_type": "code",
   "execution_count": 89,
   "metadata": {
    "collapsed": false
   },
   "outputs": [
    {
     "name": "stdout",
     "output_type": "stream",
     "text": [
      "[[ 0.51428571  1.          0.         ...,  0.0061246   0.          0.        ]\n",
      " [ 0.61428571  1.          0.         ...,  0.2812038   0.17        0.        ]\n",
      " [ 0.45714286  0.          0.         ...,  0.00485744  0.25        0.        ]\n",
      " ..., \n",
      " [ 0.61428571  1.          0.         ...,  0.          0.          0.        ]\n",
      " [ 0.45714286  0.          0.         ...,  0.          0.37        0.        ]\n",
      " [ 0.74285714  1.          0.         ...,  0.          0.06        0.        ]]\n"
     ]
    },
    {
     "data": {
      "image/png": "[encoded data removed]",
      "text/plain": [
       "<matplotlib.figure.Figure at 0x200ef358>"
      ]
     },
     "metadata": {},
     "output_type": "display_data"
    }
   ],
   "source": [
    "from scipy.cluster.vq import kmeans,vq\n",
    "from scipy.spatial.distance import cdist\n",
    "##### cluster data into K=1..10 clusters #####\n",
    "#K, KM, centroids,D_k,cIdx,dist,avgWithinSS = kmeans.run_kmeans(X,10)\n",
    "nparray = np.array(df)\n",
    "#print(nparray)\n",
    "K = range(1,8)\n",
    "\n",
    "# scipy.cluster.vq.kmeans\n",
    "KM = [kmeans(nparray,k) for k in K] # apply kmeans 1 to 10\n",
    "centroids = [cent for (cent,var) in KM]   # cluster centroids\n",
    "\n",
    "D_k = [cdist(nparray, cent, 'euclidean') for cent in centroids]\n",
    "\n",
    "cIdx = [np.argmin(D,axis=1) for D in D_k]\n",
    "dist = [np.min(D,axis=1) for D in D_k]\n",
    "avgWithinSS = [sum(d)/nparray.shape[0] for d in dist]  \n",
    "\n",
    "kIdx = 4\n",
    "# plot elbow curve\n",
    "fig = plt.figure()\n",
    "ax = fig.add_subplot(111)\n",
    "ax.plot(K, avgWithinSS, 'b*-')\n",
    "ax.plot(K[kIdx], avgWithinSS[kIdx], marker='o', markersize=12, \n",
    "      markeredgewidth=2, markeredgecolor='r', markerfacecolor='None')\n",
    "plt.grid(True)\n",
    "plt.xlabel('Number of clusters')\n",
    "plt.ylabel('Average within-cluster sum of squares')\n",
    "tt = plt.title('Elbow for K-Means clustering')  "
   ]
  },
  {
   "cell_type": "markdown",
   "metadata": {},
   "source": [
    "## Standard clustering plot "
   ]
  },
  {
   "cell_type": "code",
   "execution_count": 70,
   "metadata": {
    "collapsed": false
   },
   "outputs": [
    {
     "data": {
      "image/png": "[encoded data removed]",
      "text/plain": [
       "<matplotlib.figure.Figure at 0x1af08908>"
      ]
     },
     "metadata": {},
     "output_type": "display_data"
    }
   ],
   "source": [
    "from pylab import plot,show\n",
    "from numpy import vstack,array\n",
    "from numpy.random import rand\n",
    "from scipy.cluster.vq import kmeans,vq\n",
    "\n",
    "# now with K = 3 (3 clusters)\n",
    "centroids,_ = kmeans(nparray,5)\n",
    "idx,_ = vq(nparray,centroids)\n",
    "\n",
    "plot(nparray[idx==0,0],nparray[idx==0,1],'ob',\n",
    "     nparray[idx==1,0],nparray[idx==1,1],'ok',\n",
    "     nparray[idx==2,0],nparray[idx==2,1],'og',\n",
    "     nparray[idx==2,0],nparray[idx==2,1],'oc',\n",
    "     nparray[idx==2,0],nparray[idx==2,1],'om',\n",
    "     ) # third cluster points\n",
    "plot(centroids[:,0],centroids[:,1],'sm',markersize=8)\n",
    "show()"
   ]
  },
  {
   "cell_type": "code",
   "execution_count": 71,
   "metadata": {
    "collapsed": false
   },
   "outputs": [],
   "source": [
    "from sklearn.cross_validation import train_test_split\n",
    "array_fit, array_fit1 = train_test_split(nparray, train_size=.01)\n"
   ]
  },
  {
   "cell_type": "code",
   "execution_count": 73,
   "metadata": {
    "collapsed": false
   },
   "outputs": [
    {
     "name": "stdout",
     "output_type": "stream",
     "text": [
      "Populating the interactive namespace from numpy and matplotlib\n"
     ]
    }
   ],
   "source": [
    "%pylab inline\n",
    "\n",
    "from sklearn.cluster import KMeans\n",
    "import matplotlib.pyplot as plt\n",
    "import numpy as np\n",
    "from sklearn.decomposition import PCA\n",
    "\n",
    "hpc = PCA(n_components=2).fit_transform(array_fit)\n",
    "#print hpc"
   ]
  },
  {
   "cell_type": "code",
   "execution_count": 74,
   "metadata": {
    "collapsed": false
   },
   "outputs": [
    {
     "data": {
      "image/png": "[encoded data removed]",
      "text/plain": [
       "<matplotlib.figure.Figure at 0x3ef57b8>"
      ]
     },
     "metadata": {},
     "output_type": "display_data"
    }
   ],
   "source": [
    "k_means = KMeans()\n",
    "k_means.fit(hpc)\n",
    "\n",
    "x_min, x_max = hpc[:, 0].min() - 5, hpc[:, 0].max() - 1\n",
    "y_min, y_max = hpc[:, 1].min(), hpc[:, 1].max() + 5\n",
    "xx, yy = np.meshgrid(np.arange(x_min, x_max, .02), np.arange(y_min, y_max, .02))\n",
    "Z = k_means.predict(np.c_[xx.ravel(), yy.ravel()])\n",
    "Z = Z.reshape(xx.shape)\n",
    "\n",
    "plt.figure(1)\n",
    "plt.clf()\n",
    "plt.imshow(Z, interpolation='nearest',\n",
    "          extent=(xx.min(), xx.max(), yy.min(), yy.max()),\n",
    "          cmap=plt.cm.Paired,\n",
    "          aspect='auto', origin='lower')\n",
    "\n",
    "plt.plot(hpc[:, 0], hpc[:, 1], 'k.', markersize=8)\n",
    "centroids = k_means.cluster_centers_\n",
    "inert = k_means.inertia_\n",
    "plt.scatter(centroids[:, 0], centroids[:, 1],\n",
    "           marker='x', s=169, linewidths=3,\n",
    "           color='k', zorder=8)\n",
    "plt.xlim(x_min, x_max)\n",
    "plt.ylim(y_min, y_max)\n",
    "plt.xticks(())\n",
    "plt.yticks(())\n",
    "plt.show()"
   ]
  },
  {
   "cell_type": "code",
   "execution_count": 76,
   "metadata": {
    "collapsed": false
   },
   "outputs": [
    {
     "data": {
      "text/plain": [
       "<matplotlib.text.Text at 0x207287f0>"
      ]
     },
     "execution_count": 76,
     "metadata": {},
     "output_type": "execute_result"
    },
    {
     "data": {
      "image/png": "[encoded data removed]",
      "text/plain": [
       "<matplotlib.figure.Figure at 0x1f474c18>"
      ]
     },
     "metadata": {},
     "output_type": "display_data"
    }
   ],
   "source": [
    "import numpy as np\n",
    "from scipy.spatial.distance import cdist, pdist\n",
    "from matplotlib import pyplot as plt\n",
    "\n",
    "# Determine your k range\n",
    "k_range = range(1,10)\n",
    "\n",
    "# Fit the kmeans model for each n_clusters = k\n",
    "k_means_var = [KMeans(n_clusters=k).fit(hpc) for k in k_range]\n",
    "\n",
    "# Pull out the cluster centers for each model\n",
    "centroids = [X.cluster_centers_ for X in k_means_var]\n",
    "\n",
    "# Calculate the Euclidean distance from \n",
    "# each point to each cluster center\n",
    "k_euclid = [cdist(hpc, cent, 'euclidean') for cent in centroids]\n",
    "dist = [np.min(ke,axis=1) for ke in k_euclid]\n",
    "\n",
    "# Total within-cluster sum of squares\n",
    "wcss = [sum(d**2) for d in dist]\n",
    "\n",
    "# The total sum of squares\n",
    "tss = sum(pdist(hpc)**2)/hpc.shape[0]\n",
    "\n",
    "# The between-cluster sum of squares\n",
    "bss = tss - wcss\n",
    "\n",
    "# elbow curve\n",
    "fig = plt.figure()\n",
    "ax = fig.add_subplot(111)\n",
    "ax.plot(k_range, bss/tss*100, 'b*-')\n",
    "ax.set_ylim((0,100))\n",
    "plt.grid(True)\n",
    "plt.xlabel('n_clusters')\n",
    "plt.ylabel('Percentage of variance explained')\n",
    "plt.title('Variance Explained vs. k')"
   ]
  },
  {
   "cell_type": "code",
   "execution_count": 77,
   "metadata": {
    "collapsed": false
   },
   "outputs": [
    {
     "data": {
      "image/png": "[encoded data removed]",
      "text/plain": [
       "<matplotlib.figure.Figure at 0x1a4f2c88>"
      ]
     },
     "metadata": {},
     "output_type": "display_data"
    }
   ],
   "source": [
    "# run 8/random, 7/kmeans++ for silhouette\n",
    "k_means = KMeans(n_clusters=8)\n",
    "k_means.fit(hpc)\n",
    "\n",
    "x_min, x_max = hpc[:, 0].min() - 5, hpc[:, 0].max() - 1\n",
    "y_min, y_max = hpc[:, 1].min() + 1, hpc[:, 1].max() + 5\n",
    "xx, yy = np.meshgrid(np.arange(x_min, x_max, .02), np.arange(y_min, y_max, .02))\n",
    "Z = k_means.predict(np.c_[xx.ravel(), yy.ravel()])\n",
    "Z = Z.reshape(xx.shape)\n",
    "\n",
    "plt.figure(1)\n",
    "plt.clf()\n",
    "plt.imshow(Z, interpolation='nearest',\n",
    "          extent=(xx.min(), xx.max(), yy.min(), yy.max()),\n",
    "          cmap=plt.cm.Paired,\n",
    "          aspect='auto', origin='lower')\n",
    "\n",
    "plt.plot(hpc[:, 0], hpc[:, 1], 'k.', markersize=4)\n",
    "# Plot the centroids as a white X\n",
    "centroids = k_means.cluster_centers_\n",
    "inert = k_means.inertia_\n",
    "plt.scatter(centroids[:, 0], centroids[:, 1],\n",
    "           marker='x', s=169, linewidths=3,\n",
    "           color='w', zorder=8)\n",
    "plt.xlim(x_min, x_max)\n",
    "plt.ylim(y_min, y_max)\n",
    "plt.xticks(())\n",
    "plt.yticks(())\n",
    "plt.show()"
   ]
  },
  {
   "cell_type": "code",
   "execution_count": 78,
   "metadata": {
    "collapsed": false
   },
   "outputs": [],
   "source": [
    "##### cluster data into K=1..10 clusters #####\n",
    "#K, KM, centroids,D_k,cIdx,dist,avgWithinSS = kmeans.run_kmeans(X,10)\n",
    "\n",
    "K = range(1,8)\n",
    "\n",
    "# scipy.cluster.vq.kmeans\n",
    "KM = [kmeans(nparray,k) for k in K] # apply kmeans 1 to 10\n",
    "centroids = [cent for (cent,var) in KM]   # cluster centroids\n",
    "\n",
    "D_k = [cdist(nparray, cent, 'euclidean') for cent in centroids]\n",
    "\n",
    "cIdx = [np.argmin(D,axis=1) for D in D_k]\n",
    "dist = [np.min(D,axis=1) for D in D_k]\n",
    "avgWithinSS = [sum(d)/nparray.shape[0] for d in dist]  "
   ]
  },
  {
   "cell_type": "code",
   "execution_count": 79,
   "metadata": {
    "collapsed": false
   },
   "outputs": [
    {
     "data": {
      "image/png": "[encoded data removed]",
      "text/plain": [
       "<matplotlib.figure.Figure at 0x1bf74a20>"
      ]
     },
     "metadata": {},
     "output_type": "display_data"
    }
   ],
   "source": [
    "kIdx = 2\n",
    "# plot elbow curve\n",
    "fig = plt.figure()\n",
    "ax = fig.add_subplot(111)\n",
    "ax.plot(K, avgWithinSS, 'b*-')\n",
    "ax.plot(K[kIdx], avgWithinSS[kIdx], marker='o', markersize=12, \n",
    "      markeredgewidth=2, markeredgecolor='r', markerfacecolor='None')\n",
    "plt.grid(True)\n",
    "plt.xlabel('Number of clusters')\n",
    "plt.ylabel('Average within-cluster sum of squares')\n",
    "tt = plt.title('Elbow for K-Means clustering')  "
   ]
  },
  {
   "cell_type": "code",
   "execution_count": 22,
   "metadata": {
    "collapsed": false
   },
   "outputs": [],
   "source": [
    "from sklearn.cluster import KMeans\n",
    "km = KMeans(3, init='k-means++') # initialize\n",
    "km.fit(Y)\n",
    "c = km.predict(Y) # classify into three clusters"
   ]
  },
  {
   "cell_type": "code",
   "execution_count": 24,
   "metadata": {
    "collapsed": false
   },
   "outputs": [
    {
     "ename": "ImportError",
     "evalue": "No module named KMeans",
     "output_type": "error",
     "traceback": [
      "\u001b[1;31m---------------------------------------------------------------------------\u001b[0m\n\u001b[1;31mImportError\u001b[0m                               Traceback (most recent call last)",
      "\u001b[1;32m<ipython-input-24-17c8c4219678>\u001b[0m in \u001b[0;36m<module>\u001b[1;34m()\u001b[0m\n\u001b[0;32m      3\u001b[0m \u001b[1;31m# this wrapper makes it easy to interact with this code and try other variables\u001b[0m\u001b[1;33m\u001b[0m\u001b[1;33m\u001b[0m\u001b[0m\n\u001b[0;32m      4\u001b[0m \u001b[1;31m# as we see below in the next plot\u001b[0m\u001b[1;33m\u001b[0m\u001b[1;33m\u001b[0m\u001b[0m\n\u001b[1;32m----> 5\u001b[1;33m \u001b[1;32mimport\u001b[0m \u001b[0mKMeans\u001b[0m \u001b[1;32mas\u001b[0m \u001b[0mmykm\u001b[0m\u001b[1;33m\u001b[0m\u001b[0m\n\u001b[0m\u001b[0;32m      6\u001b[0m \u001b[1;33m(\u001b[0m\u001b[0mpl0\u001b[0m\u001b[1;33m,\u001b[0m\u001b[0mpl1\u001b[0m\u001b[1;33m,\u001b[0m\u001b[0mpl2\u001b[0m\u001b[1;33m)\u001b[0m \u001b[1;33m=\u001b[0m \u001b[0mmykm\u001b[0m\u001b[1;33m.\u001b[0m\u001b[0mplot_clusters\u001b[0m\u001b[1;33m(\u001b[0m\u001b[0mX\u001b[0m\u001b[1;33m,\u001b[0m\u001b[0mc\u001b[0m\u001b[1;33m,\u001b[0m\u001b[1;36m3\u001b[0m\u001b[1;33m,\u001b[0m\u001b[1;36m2\u001b[0m\u001b[1;33m)\u001b[0m \u001b[1;31m# column 3 GDP, vs column 2 infant mortality. Note indexing is 0 based\u001b[0m\u001b[1;33m\u001b[0m\u001b[0m\n",
      "\u001b[1;31mImportError\u001b[0m: No module named KMeans"
     ]
    }
   ],
   "source": [
    "# see the code in helper library kmeans.py\n",
    "# it wraps a number of variables and maps integers to categoriy labels\n",
    "# this wrapper makes it easy to interact with this code and try other variables\n",
    "# as we see below in the next plot\n",
    "import KMeans as mykm\n",
    "(pl0,pl1,pl2) = mykm.plot_clusters(X,c,3,2) # column 3 GDP, vs column 2 infant mortality. Note indexing is 0 based"
   ]
  },
  {
   "cell_type": "markdown",
   "metadata": {},
   "source": [
    "### KDE plot"
   ]
  },
  {
   "cell_type": "code",
   "execution_count": 97,
   "metadata": {
    "collapsed": false
   },
   "outputs": [
    {
     "name": "stdout",
     "output_type": "stream",
     "text": [
      "Package Versions:\n",
      "  scikit-learn: 0.14.1\n",
      "  scipy: 0.15.1\n",
      "  statsmodels: 0.5.0\n"
     ]
    }
   ],
   "source": [
    "from sklearn.neighbors import KernelDensity\n",
    "from scipy.stats import gaussian_kde\n",
    "#from statsmodels.nonparametric.kde import KDEUnivariate\n",
    "from statsmodels.nonparametric.kernel_density import KDEMultivariate\n",
    "def kde_scipy(x, x_grid, bandwidth=0.2, **kwargs):\n",
    "    \"\"\"Kernel Density Estimation with Scipy\"\"\"\n",
    "    # Note that scipy weights its bandwidth by the covariance of the\n",
    "    # input data.  To make the results comparable to the other methods,\n",
    "    # we divide the bandwidth by the sample standard deviation here.\n",
    "    kde = gaussian_kde(x, bw_method=bandwidth / x.std(ddof=1), **kwargs)\n",
    "    return kde.evaluate(x_grid)\n",
    "\n",
    "def kde_sklearn(x, x_grid, bandwidth=0.2, **kwargs):\n",
    "    \"\"\"Kernel Density Estimation with Scikit-learn\"\"\"\n",
    "    kde_skl = KernelDensity(bandwidth=bandwidth, **kwargs)\n",
    "    kde_skl.fit(x[:, np.newaxis])\n",
    "    # score_samples() returns the log-likelihood of the samples\n",
    "    log_pdf = kde_skl.score_samples(x_grid[:, np.newaxis])\n",
    "    return np.exp(log_pdf)\n",
    "\n",
    "def kde_statsmodels_m(x, x_grid, bandwidth=0.2, **kwargs):\n",
    "    \"\"\"Multivariate Kernel Density Estimation with Statsmodels\"\"\"\n",
    "    kde = KDEMultivariate(x, bw=bandwidth * np.ones_like(x),\n",
    "                          var_type='c', **kwargs)\n",
    "    return kde.pdf(x_grid)\n",
    "\n",
    "\n",
    "#these only work in Python 3.x\n",
    "def kde_statsmodels_u(x, x_grid, bandwidth=0.2, **kwargs):\n",
    "    \"\"\"Univariate Kernel Density Estimation with Statsmodels\"\"\"\n",
    "    kde = KDEUnivariate(x)\n",
    "    kde.fit(bw=bandwidth, **kwargs)\n",
    "    return kde.evaluate(x_grid)\n",
    "    \n",
    "    \n",
    "\n",
    "\n",
    "\n",
    "\n",
    "\n",
    "#kde_funcs = [kde_statsmodels_u, kde_statsmodels_m, kde_scipy, kde_sklearn]\n",
    "#kde_funcnames = ['Statsmodels-U', 'Statsmodels-M', 'Scipy', 'Scikit-learn']\n",
    "\n",
    "kde_funcs = [ kde_statsmodels_m, kde_scipy, kde_sklearn]\n",
    "kde_funcnames = [ 'Statsmodels-M', 'Scipy', 'Scikit-learn']\n",
    "\n",
    "print \"Package Versions:\"\n",
    "import sklearn; print \"  scikit-learn:\", sklearn.__version__\n",
    "import scipy; print \"  scipy:\", scipy.__version__\n",
    "import statsmodels; print \"  statsmodels:\", statsmodels.__version__"
   ]
  },
  {
   "cell_type": "code",
   "execution_count": null,
   "metadata": {
    "collapsed": false
   },
   "outputs": [],
   "source": [
    "from scipy.stats.distributions import norm\n",
    "\n",
    "# The grid we'll use for plotting\n",
    "#x_grid = np.linspace(-4.5, 3.5, 1000)\n",
    "x_grid = np.linspace(0, 5000, 10000)\n",
    "\n",
    "# Draw points from a bimodal distribution in 1D\n",
    "#np.random.seed(0)\n",
    "#x = np.concatenate([norm(-1, 1.).rvs(400),\n",
    "#                    norm(1, 0.3).rvs(100)])\n",
    "print(df2.maxpost.shape)\n",
    "u= df2.maxpost\n",
    "#print(u.shape)\n",
    "\n",
    "x = u[~np.isnan(u)]\n",
    "x = np.array(x)\n",
    "\n",
    "pdf_true = (0.8 * norm(-1, 1).pdf(x_grid) +\n",
    "            0.2 * norm(1, 0.3).pdf(x_grid))"
   ]
  },
  {
   "cell_type": "markdown",
   "metadata": {},
   "source": [
    "### KDE Bandwidth"
   ]
  },
  {
   "cell_type": "code",
   "execution_count": null,
   "metadata": {
    "collapsed": false
   },
   "outputs": [],
   "source": [
    "from sklearn.grid_search import GridSearchCV\n",
    "grid = GridSearchCV(KernelDensity(),\n",
    "                    {'bandwidth': x_grid},\n",
    "                    cv=20) # 20-fold cross-validation\n",
    "grid.fit(x[:, None])\n",
    "print grid.best_params_\n",
    "bandw = grid.best_params_"
   ]
  },
  {
   "cell_type": "markdown",
   "metadata": {},
   "source": [
    "### Plot KDE with bandwidth"
   ]
  },
  {
   "cell_type": "code",
   "execution_count": null,
   "metadata": {
    "collapsed": false
   },
   "outputs": [],
   "source": [
    "# Plot the three kernel density estimates\n",
    "fig, ax = plt.subplots(1, 3, sharey=True,\n",
    "                       figsize=(13, 3))\n",
    "fig.subplots_adjust(wspace=0)\n",
    "\n",
    "for i in range(3):\n",
    "    pdf = kde_funcs[i](x, x_grid, bandwidth=bandw)\n",
    "    ax[i].plot(x_grid, pdf, color='blue', alpha=0.5, lw=3)\n",
    "    ax[i].fill(x_grid, pdf_true, ec='gray', fc='gray', alpha=0.4)\n",
    "    ax[i].set_title(kde_funcnames[i])\n",
    "    #ax[i].set_xlim(0, 5)\n",
    "    \n",
    "from IPython.display import HTML\n",
    "HTML(\"<font color='#666666'>Gray = True underlying distribution</font><br>\"\n",
    "     \"<font color='6666ff'>Blue = KDE model distribution</font>\")\n"
   ]
  }
 ],
 "metadata": {
  "kernelspec": {
   "display_name": "Python 2",
   "language": "python",
   "name": "python2"
  },
  "language_info": {
   "codemirror_mode": {
    "name": "ipython",
    "version": 2
   },
   "file_extension": ".py",
   "mimetype": "text/x-python",
   "name": "python",
   "nbconvert_exporter": "python",
   "pygments_lexer": "ipython2",
   "version": "2.7.9"
  }
 },
 "nbformat": 4,
 "nbformat_minor": 0
}
