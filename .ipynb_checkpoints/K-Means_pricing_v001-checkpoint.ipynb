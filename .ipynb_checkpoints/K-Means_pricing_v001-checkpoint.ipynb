{
 "metadata": {
  "name": "",
  "signature": "sha256:66e0daad5ce59ce57c8d2c1b0f2cb2e48af801e1149d9c4b62f3f2838527bf5c"
 },
 "nbformat": 3,
 "nbformat_minor": 0,
 "worksheets": []
}